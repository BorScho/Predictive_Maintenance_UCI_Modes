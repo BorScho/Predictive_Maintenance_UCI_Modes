{
 "cells": [
  {
   "cell_type": "markdown",
   "metadata": {},
   "source": [
    "# Random Forrest --- predict Failure Mode #\n",
    "# UCI dataset \"AI4I 2020 Predictive Maintenance Dataset Data Set\" #\n",
    "\n",
    "Online-Source [here](https://archive.ics.uci.edu/ml/datasets/AI4I+2020+Predictive+Maintenance+Dataset#)\n",
    "\n",
    " AI4I 2020 Predictive Maintenance Dataset Data Set\n",
    "Download: Data Folder, Data Set Description\n",
    "\n",
    "Abstract: The AI4I 2020 Predictive Maintenance Dataset is a synthetic dataset that reflects real predictive maintenance data encountered in industry.\n",
    "\n",
    "| | | | | | |\t\n",
    "|:---|:---:|:---|:---:|:---|:---:|\n",
    "|Data Set Characteristics: |Multivariate, Time-Series |Number of Instances: |10.000 |Area: |Computer |\n",
    "|Attribute Characteristics: |Real |Number of Attributes: |14 | Date Donated: | 2020-08-30 |\n",
    "|Associated Tasks: | Classification, Regression, Causal-Discovery | Missing Values? |N\\A|Number of Web Hits: | 16614 |\n",
    "\n",
    "\n",
    "Source:\n",
    "\n",
    "Stephan Matzka, School of Engineering - Technology and Life, Hochschule für Technik und Wirtschaft Berlin, 12459 Berlin, Germany, stephan.matzka '@' htw-berlin.de\n",
    "\n",
    "Data Set Information:\n",
    "\n",
    "Since real predictive maintenance datasets are generally difficult to obtain and in particular difficult to publish, we present and provide a synthetic dataset that reflects real predictive maintenance encountered in industry to the best of our knowledge.\n",
    "\n",
    "\n",
    "\n",
    "\n",
    "Attribute Information:\n",
    "\n",
    "The dataset consists of 10 000 data points stored as rows with 14 features in columns <br>\n",
    "<b> UID : </b> unique identifier ranging from 1 to 10000<br>\n",
    "<b> product ID: </b>consisting of a letter L, M, or H for low (50% of all products), medium (30%) and high (20%) as product quality variants and a variant-specific serial number <br>\n",
    "<b> air temperature [K]: </b> generated using a random walk process later normalized to a standard deviation of 2 K around 300 K <br>\n",
    "<b> process temperature [K]: </b> generated using a random walk process normalized to a standard deviation of 1 K, added to the air temperature plus 10 K. <br>\n",
    "<b> rotational speed [rpm]: </b> calculated from a power of 2860 W, overlaid with a normally distributed noise <br>\n",
    "<b> torque [Nm]: </b> torque values are normally distributed around 40 Nm with a Ïƒ = 10 Nm and no negative values. <br>\n",
    "<b> tool wear [min]: </b> The quality variants H/M/L add 5/3/2 minutes of tool wear to the used tool in the process. and a\n",
    "'machine failure' label that indicates, whether the machine has failed in this particular datapoint for any of the following failure modes are true. <br>\n",
    "\n",
    "The machine failure consists of five independent failure modes <br>\n",
    "<b> tool wear failure (TWF): </b> the tool will be replaced or fail at a randomly selected tool wear time between 200 â€“ 240 mins (120 times in our dataset). At this point in time, the tool is replaced 69 times, and fails 51 times (randomly assigned). <br>\n",
    "<b> heat dissipation failure (HDF): </b> heat dissipation causes a process failure, if the difference between air- and process temperature is below 8.6 K and the toolâ€™s rotational speed is below 1380 rpm. This is the case for 115 data points. <br>\n",
    "<b> power failure (PWF): </b> the product of torque and rotational speed (in rad/s) equals the power required for the process. If this power is below 3500 W or above 9000 W, the process fails, which is the case 95 times in our dataset. <br>\n",
    "<b> overstrain failure (OSF): </b> if the product of tool wear and torque exceeds 11,000 minNm for the L product variant (12,000 M, 13,000 H), the process fails due to overstrain. This is true for 98 datapoints. <br>\n",
    "<b> random failures (RNF): </b> each process has a chance of 0,1 % to fail regardless of its process parameters. This is the case for only 5 datapoints, less than could be expected for 10,000 datapoints in our dataset.<br>\n",
    "<br>\n",
    "If at least one of the above failure modes is true, the process fails and the 'machine failure' label is set to 1. It is therefore not transparent to the machine learning method, which of the failure modes has caused the process to fail\n",
    "\n",
    "Relevant Papers:\n",
    "\n",
    "Stephan Matzka, 'Explainable Artificial Intelligence for Predictive Maintenance Applications', Third International Conference on Artificial Intelligence for Industries (AI4I 2020), 2020 (in press)\n",
    "\n",
    "\n",
    "Citation Request:\n",
    "\n",
    "Dua, D. and Graff, C. (2019). UCI Machine Learning Repository [http://archive.ics.uci.edu/ml]. Irvine, CA: University of California, School of Information and Computer Science. "
   ]
  },
  {
   "cell_type": "markdown",
   "metadata": {},
   "source": [
    "# <b> What is done in this notebook? </b> #\n",
    "Every data record contains information on the failure and the failure mode.\n",
    "In this notebook we try to predict, which failure mode applies to a given record.\n",
    "\n",
    "To this end we chose a subset of features of the dataset and use:\n",
    "1. a decisiontree \n",
    "2. a random forrest\n",
    "3. a Gradientboosting classifier\n",
    "\n",
    "## Plan: ##\n",
    "1. enhance the failue modes by a new one: NOF - no failure. Thus a predictor has the possibility to move probability mass to this mode in case of no failure.\n",
    "2. construct a random forrest \n",
    "3. determine the best size of the forrest measured by AUC\n"
   ]
  },
  {
   "cell_type": "markdown",
   "metadata": {},
   "source": [
    "# Accuracy is not the correct metric #\n",
    "Machine failure is a rare event, i.e. accuracy is no meaningful performace-measure since a classifier allways predicting \"No Machine Failure\" will have a high accurcy without being usefull at all.<br>\n",
    "We use:<br>\n",
    "+ AUC area under (ROC) curve ---\n"
   ]
  },
  {
   "cell_type": "code",
   "execution_count": 20,
   "metadata": {},
   "outputs": [],
   "source": [
    "%reset -f"
   ]
  },
  {
   "cell_type": "code",
   "execution_count": 21,
   "metadata": {},
   "outputs": [],
   "source": [
    "import pandas as pd\n",
    "import os\n",
    "from pathlib import Path\n",
    "import numpy as np"
   ]
  },
  {
   "cell_type": "code",
   "execution_count": 22,
   "metadata": {},
   "outputs": [],
   "source": [
    "# define a dictionary to collect all relevant results on the way:\n",
    "#=================================================================\n",
    "REPORT = {}"
   ]
  },
  {
   "cell_type": "code",
   "execution_count": 23,
   "metadata": {},
   "outputs": [],
   "source": [
    "# READ THE DATASET INTO A DATAFRAME:\n",
    "# ==================================\n",
    "\n",
    "# use absolute path:\n",
    "\n",
    "#base_path = Path(\"C:/Users/BoSc/Documents/1000_Machine_Learning/1000_UCI_datasets/predictive_maintenance_dataset\")\n",
    "#csv_data_file_path = Path(\"/dataset/ai4i2020.csv\")\n",
    "#df = pd.read_csv(os.path.join(base_path, csv_data_file_path))\n",
    "\n",
    "# use path relative to the notebook:\n",
    "\n",
    "csv_data_file_path = Path(\"./dataset/ai4i2020.csv\")\n",
    "df = pd.read_csv(csv_data_file_path)\n",
    "\n",
    "REPORT[\"csv_data_file_path\"] = \"./dataset/ai4i2020.csv\""
   ]
  },
  {
   "cell_type": "code",
   "execution_count": 24,
   "metadata": {},
   "outputs": [
    {
     "data": {
      "text/html": [
       "<div>\n",
       "<style scoped>\n",
       "    .dataframe tbody tr th:only-of-type {\n",
       "        vertical-align: middle;\n",
       "    }\n",
       "\n",
       "    .dataframe tbody tr th {\n",
       "        vertical-align: top;\n",
       "    }\n",
       "\n",
       "    .dataframe thead th {\n",
       "        text-align: right;\n",
       "    }\n",
       "</style>\n",
       "<table border=\"1\" class=\"dataframe\">\n",
       "  <thead>\n",
       "    <tr style=\"text-align: right;\">\n",
       "      <th></th>\n",
       "      <th>UDI</th>\n",
       "      <th>Product ID</th>\n",
       "      <th>Type</th>\n",
       "      <th>Air temperature [K]</th>\n",
       "      <th>Process temperature [K]</th>\n",
       "      <th>Rotational speed [rpm]</th>\n",
       "      <th>Torque [Nm]</th>\n",
       "      <th>Tool wear [min]</th>\n",
       "      <th>Machine failure</th>\n",
       "      <th>TWF</th>\n",
       "      <th>HDF</th>\n",
       "      <th>PWF</th>\n",
       "      <th>OSF</th>\n",
       "      <th>RNF</th>\n",
       "    </tr>\n",
       "  </thead>\n",
       "  <tbody>\n",
       "    <tr>\n",
       "      <th>0</th>\n",
       "      <td>1</td>\n",
       "      <td>M14860</td>\n",
       "      <td>M</td>\n",
       "      <td>298.1</td>\n",
       "      <td>308.6</td>\n",
       "      <td>1551</td>\n",
       "      <td>42.8</td>\n",
       "      <td>0</td>\n",
       "      <td>0</td>\n",
       "      <td>0</td>\n",
       "      <td>0</td>\n",
       "      <td>0</td>\n",
       "      <td>0</td>\n",
       "      <td>0</td>\n",
       "    </tr>\n",
       "    <tr>\n",
       "      <th>1</th>\n",
       "      <td>2</td>\n",
       "      <td>L47181</td>\n",
       "      <td>L</td>\n",
       "      <td>298.2</td>\n",
       "      <td>308.7</td>\n",
       "      <td>1408</td>\n",
       "      <td>46.3</td>\n",
       "      <td>3</td>\n",
       "      <td>0</td>\n",
       "      <td>0</td>\n",
       "      <td>0</td>\n",
       "      <td>0</td>\n",
       "      <td>0</td>\n",
       "      <td>0</td>\n",
       "    </tr>\n",
       "    <tr>\n",
       "      <th>2</th>\n",
       "      <td>3</td>\n",
       "      <td>L47182</td>\n",
       "      <td>L</td>\n",
       "      <td>298.1</td>\n",
       "      <td>308.5</td>\n",
       "      <td>1498</td>\n",
       "      <td>49.4</td>\n",
       "      <td>5</td>\n",
       "      <td>0</td>\n",
       "      <td>0</td>\n",
       "      <td>0</td>\n",
       "      <td>0</td>\n",
       "      <td>0</td>\n",
       "      <td>0</td>\n",
       "    </tr>\n",
       "  </tbody>\n",
       "</table>\n",
       "</div>"
      ],
      "text/plain": [
       "   UDI Product ID Type  Air temperature [K]  Process temperature [K]  \\\n",
       "0    1     M14860    M                298.1                    308.6   \n",
       "1    2     L47181    L                298.2                    308.7   \n",
       "2    3     L47182    L                298.1                    308.5   \n",
       "\n",
       "   Rotational speed [rpm]  Torque [Nm]  Tool wear [min]  Machine failure  TWF  \\\n",
       "0                    1551         42.8                0                0    0   \n",
       "1                    1408         46.3                3                0    0   \n",
       "2                    1498         49.4                5                0    0   \n",
       "\n",
       "   HDF  PWF  OSF  RNF  \n",
       "0    0    0    0    0  \n",
       "1    0    0    0    0  \n",
       "2    0    0    0    0  "
      ]
     },
     "execution_count": 24,
     "metadata": {},
     "output_type": "execute_result"
    }
   ],
   "source": [
    "# TAKE A LOOK AT THE DATA:\n",
    "# ========================\n",
    "\n",
    "df[:3]"
   ]
  },
  {
   "cell_type": "code",
   "execution_count": 25,
   "metadata": {},
   "outputs": [
    {
     "data": {
      "text/html": [
       "<div>\n",
       "<style scoped>\n",
       "    .dataframe tbody tr th:only-of-type {\n",
       "        vertical-align: middle;\n",
       "    }\n",
       "\n",
       "    .dataframe tbody tr th {\n",
       "        vertical-align: top;\n",
       "    }\n",
       "\n",
       "    .dataframe thead th {\n",
       "        text-align: right;\n",
       "    }\n",
       "</style>\n",
       "<table border=\"1\" class=\"dataframe\">\n",
       "  <thead>\n",
       "    <tr style=\"text-align: right;\">\n",
       "      <th></th>\n",
       "      <th>L</th>\n",
       "      <th>M</th>\n",
       "      <th>H</th>\n",
       "      <th>Air temperature [K]</th>\n",
       "      <th>Process temperature [K]</th>\n",
       "      <th>Rotational speed [rpm]</th>\n",
       "      <th>Torque [Nm]</th>\n",
       "      <th>Tool wear [min]</th>\n",
       "      <th>Machine failure</th>\n",
       "      <th>TWF</th>\n",
       "      <th>HDF</th>\n",
       "      <th>PWF</th>\n",
       "      <th>OSF</th>\n",
       "      <th>RNF</th>\n",
       "    </tr>\n",
       "  </thead>\n",
       "  <tbody>\n",
       "    <tr>\n",
       "      <th>0</th>\n",
       "      <td>0.0</td>\n",
       "      <td>1.0</td>\n",
       "      <td>0.0</td>\n",
       "      <td>298.1</td>\n",
       "      <td>308.6</td>\n",
       "      <td>1551</td>\n",
       "      <td>42.8</td>\n",
       "      <td>0</td>\n",
       "      <td>0</td>\n",
       "      <td>0</td>\n",
       "      <td>0</td>\n",
       "      <td>0</td>\n",
       "      <td>0</td>\n",
       "      <td>0</td>\n",
       "    </tr>\n",
       "    <tr>\n",
       "      <th>1</th>\n",
       "      <td>1.0</td>\n",
       "      <td>0.0</td>\n",
       "      <td>0.0</td>\n",
       "      <td>298.2</td>\n",
       "      <td>308.7</td>\n",
       "      <td>1408</td>\n",
       "      <td>46.3</td>\n",
       "      <td>3</td>\n",
       "      <td>0</td>\n",
       "      <td>0</td>\n",
       "      <td>0</td>\n",
       "      <td>0</td>\n",
       "      <td>0</td>\n",
       "      <td>0</td>\n",
       "    </tr>\n",
       "    <tr>\n",
       "      <th>2</th>\n",
       "      <td>1.0</td>\n",
       "      <td>0.0</td>\n",
       "      <td>0.0</td>\n",
       "      <td>298.1</td>\n",
       "      <td>308.5</td>\n",
       "      <td>1498</td>\n",
       "      <td>49.4</td>\n",
       "      <td>5</td>\n",
       "      <td>0</td>\n",
       "      <td>0</td>\n",
       "      <td>0</td>\n",
       "      <td>0</td>\n",
       "      <td>0</td>\n",
       "      <td>0</td>\n",
       "    </tr>\n",
       "  </tbody>\n",
       "</table>\n",
       "</div>"
      ],
      "text/plain": [
       "     L    M    H  Air temperature [K]  Process temperature [K]  \\\n",
       "0  0.0  1.0  0.0                298.1                    308.6   \n",
       "1  1.0  0.0  0.0                298.2                    308.7   \n",
       "2  1.0  0.0  0.0                298.1                    308.5   \n",
       "\n",
       "   Rotational speed [rpm]  Torque [Nm]  Tool wear [min]  Machine failure  TWF  \\\n",
       "0                    1551         42.8                0                0    0   \n",
       "1                    1408         46.3                3                0    0   \n",
       "2                    1498         49.4                5                0    0   \n",
       "\n",
       "   HDF  PWF  OSF  RNF  \n",
       "0    0    0    0    0  \n",
       "1    0    0    0    0  \n",
       "2    0    0    0    0  "
      ]
     },
     "execution_count": 25,
     "metadata": {},
     "output_type": "execute_result"
    }
   ],
   "source": [
    "# start by dealing with only one quality of equipment: l or h or m:\n",
    "#==================================================================\n",
    "from sklearn.preprocessing import OneHotEncoder\n",
    "\n",
    "equipment_type = 'all'\n",
    "#equipment_type = 'L'\n",
    "#equipment_type = 'M'\n",
    "#equipment_type = 'H'\n",
    "\n",
    "REPORT[\"equipment_type\"] = equipment_type\n",
    "\n",
    "data_columns = [\n",
    "    'Air temperature [K]',\n",
    "    'Process temperature [K]',\n",
    "    'Rotational speed [rpm]',\n",
    "    'Torque [Nm]',\n",
    "    'Tool wear [min]',\n",
    "    'Machine failure',\n",
    "    'TWF',\n",
    "    'HDF', \n",
    "    'PWF', \n",
    "    'OSF',\n",
    "    'RNF',\n",
    "    ]\n",
    "\n",
    "if(equipment_type != 'all'):\n",
    "    df_ = df[df['Type']== equipment_type]\n",
    "else:\n",
    "    df_ = df\n",
    "    df_type = df['Type']\n",
    "    df_type = df_type.values.reshape(-1,1)\n",
    "    enc = OneHotEncoder(sparse=False)\n",
    "    ohe_type= enc.fit_transform(df_type)\n",
    "    df_.insert(0, \"L\", ohe_type[:,1])\n",
    "    data_columns.insert(0,\"L\")\n",
    "    df_.insert(1, \"M\", ohe_type[:,2])\n",
    "    data_columns.insert(1, \"M\")\n",
    "    df_.insert(2, \"H\", ohe_type[:,0])\n",
    "    data_columns.insert(2, \"H\")\n",
    "\n",
    "data_df = df_[data_columns]\n",
    "REPORT[\"data_columns\"] = data_columns\n",
    "data_df[:3]"
   ]
  },
  {
   "cell_type": "code",
   "execution_count": 26,
   "metadata": {},
   "outputs": [],
   "source": [
    "# PREPARE DATA AND LABELS:\n",
    "# ========================\n",
    "\n",
    "from sklearn.model_selection import train_test_split\n",
    "from sklearn.model_selection import StratifiedShuffleSplit\n",
    "\n",
    "predictive_columns = data_columns[:-6]\n",
    "X = data_df[predictive_columns]\n",
    "target_columns = data_columns[-6:]\n",
    "y = data_df[target_columns]\n"
   ]
  },
  {
   "cell_type": "code",
   "execution_count": 27,
   "metadata": {},
   "outputs": [
    {
     "name": "stdout",
     "output_type": "stream",
     "text": [
      "There are approximately 356.0 records for machine failure in the data: \n"
     ]
    }
   ],
   "source": [
    "# Some sanity-check of the data to avoid single-class training-/test-sets:\n",
    "#=========================================================================\n",
    "\n",
    "# check if there are some records for machine-failure in the data:\n",
    "print(f\"There are approximately {np.asarray(y == 1).sum() / 2 } records for machine failure in the data: \")"
   ]
  },
  {
   "cell_type": "code",
   "execution_count": 28,
   "metadata": {},
   "outputs": [
    {
     "name": "stdout",
     "output_type": "stream",
     "text": [
      "(10000, 8)\n",
      "(10000, 6)\n",
      "(8000, 8)\n",
      "(8000, 6)\n",
      "(2000, 8)\n",
      "(2000, 6)\n",
      "['L', 'M', 'H', 'Air temperature [K]', 'Process temperature [K]', 'Rotational speed [rpm]', 'Torque [Nm]', 'Tool wear [min]']\n",
      "['Machine failure', 'TWF', 'HDF', 'PWF', 'OSF', 'RNF']\n"
     ]
    }
   ],
   "source": [
    "# Train-test split of the data:\n",
    "\n",
    "test_size=0.2\n",
    "REPORT[\"test_size\"] = test_size\n",
    "\n",
    "X_train, X_test, y_train, y_test = train_test_split(X,y,random_state=0, test_size=test_size)\n",
    "print(X.shape)\n",
    "REPORT[\"X.shape\"]= X.shape\n",
    "print(y.shape)\n",
    "REPORT[\"y.shape\"]=y.shape\n",
    "print(X_train.shape)\n",
    "print(y_train.shape)\n",
    "print(X_test.shape)\n",
    "print(y_test.shape)\n",
    "print(predictive_columns)\n",
    "print(target_columns)\n"
   ]
  },
  {
   "cell_type": "code",
   "execution_count": 29,
   "metadata": {},
   "outputs": [
    {
     "name": "stdout",
     "output_type": "stream",
     "text": [
      "There are approximately 280.0 machine-failure records in the train set\n",
      "There are approximately 76.0 machine-failure records in the test set\n"
     ]
    }
   ],
   "source": [
    "# Some sanity-check of the data to avoid single-class training-/test-sets:\n",
    "#=========================================================================\n",
    "\n",
    "# check if there are some records for machine-failure in the data:\n",
    "print(f\"There are approximately {np.asarray(y_train == 1).sum() / 2 } machine-failure records in the train set\")\n",
    "print(f\"There are approximately {np.asarray(y_test ==1).sum() /2 } machine-failure records in the test set\")"
   ]
  },
  {
   "cell_type": "markdown",
   "metadata": {},
   "source": [
    "# Decision Tree: #"
   ]
  },
  {
   "cell_type": "code",
   "execution_count": 30,
   "metadata": {},
   "outputs": [
    {
     "data": {
      "text/plain": [
       "DecisionTreeClassifier(max_depth=6)"
      ]
     },
     "execution_count": 30,
     "metadata": {},
     "output_type": "execute_result"
    }
   ],
   "source": [
    "# DEFINE AND FIT DECISION-TREE:\n",
    "# =============================\n",
    "\n",
    "from sklearn.tree import DecisionTreeClassifier\n",
    "\n",
    "max_graph_depth=6\n",
    "tree_clf = DecisionTreeClassifier(max_depth=max_graph_depth)\n",
    "tree_clf.fit(X_train,y_train)"
   ]
  },
  {
   "cell_type": "code",
   "execution_count": 31,
   "metadata": {},
   "outputs": [
    {
     "name": "stdout",
     "output_type": "stream",
     "text": [
      "\n",
      " Mean accuracy: 0.972\n"
     ]
    }
   ],
   "source": [
    "# MEAN ACCURACY OF THE TEST DATA:\n",
    "# ===============================\n",
    "\n",
    "# this does not say much, since we have mainly \"0\" as labels:\n",
    "mean_acc = tree_clf.score(X_test, y_test)\n",
    "REPORT[\"mean acc single tree\"]=mean_acc\n",
    "print(f\"\\n Mean accuracy: {mean_acc}\")\n"
   ]
  },
  {
   "cell_type": "code",
   "execution_count": 33,
   "metadata": {},
   "outputs": [
    {
     "name": "stdout",
     "output_type": "stream",
     "text": [
      "\n",
      " Area Under the Curve (auc): 0.6833586074647383\n"
     ]
    }
   ],
   "source": [
    "# ROC-AUC METRIC FOR DATASET WITH CLASS IMBALANCE:\n",
    "#=================================================\n",
    "# see e.g.:Data School vid on roc auc: https://youtu.be/OAl6eAyP-yo\n",
    "\n",
    "from sklearn.metrics import roc_auc_score\n",
    "\n",
    "y_preds = tree_clf.predict(X_test)\n",
    "auc=roc_auc_score(y_test, y_preds)\n",
    "REPORT[\"auc single tree\"]=auc\n",
    "\n",
    "print(f\"\\n Area Under the Curve (auc): {auc}\")"
   ]
  },
  {
   "cell_type": "markdown",
   "metadata": {},
   "source": [
    "# Visualize the decision-tree as a graph: #\n",
    "1. Run the next cell: a file will be saved in your folder named \"machine_tree_depth{max_graph_depth}.dot\". \n",
    "2. Open this file in VSCode or in Microsoft Word or Notepad++ and copy all of its content. \n",
    "3. Open the browser, search for \"webgraphviz\", or use [this](http://www.jdolivet.byethost13.com/Logiciels/WebGraphviz/?i=1)\n",
    "\n",
    "4. Delete whatever is written in white space and paste the copied content from step 2.\n",
    "5. Click \"generate graph\". \n",
    "5. Scroll down to find the graph: left mouse button \"take screen-shot\" -> paste into irfan view-> safe as .jpg in the project folder\n",
    "\n",
    "6. Either display the jpg inside the notebook or open (double-click) inside VS Code (opens in new tab)."
   ]
  },
  {
   "cell_type": "code",
   "execution_count": 34,
   "metadata": {},
   "outputs": [],
   "source": [
    "# the following code can be used to generate a visualisation of the decisiontree as a graph - see preceding text:\n",
    "#================================================================================================================\n",
    "from sklearn.tree import export_graphviz\n",
    "\n",
    "out_file_name=f\"machine_tree_depth{max_graph_depth}\"\n",
    "REPORT[\"file name graph viz\"]=out_file_name\n",
    "\n",
    "export_graphviz( \n",
    "    tree_clf,\n",
    "    out_file=out_file_name,\n",
    "    feature_names=predictive_columns,\n",
    "    class_names=[\"No Machine Failure\", \"Machine Failure\"],\n",
    "    rounded= True,\n",
    "    filled=True\n",
    "    )"
   ]
  },
  {
   "cell_type": "markdown",
   "metadata": {},
   "source": [
    "# Random Forrest Classifier: #"
   ]
  },
  {
   "cell_type": "code",
   "execution_count": 59,
   "metadata": {},
   "outputs": [
    {
     "name": "stdout",
     "output_type": "stream",
     "text": [
      "\n",
      " Equipment Type: all\n",
      "\n",
      " auc: [0.7153833128368995]\n",
      "\n",
      " accuracy: [0.9625]\n"
     ]
    }
   ],
   "source": [
    "# Random Forrest Classifier:\n",
    "#==============================\n",
    "\n",
    "from sklearn.ensemble import RandomForestClassifier\n",
    "from sklearn.metrics import roc_auc_score\n",
    "\n",
    "n_estimators = []\n",
    "\n",
    "def rf_auc(n_estimators, X_train, X_test, y_train, y_test):\n",
    "    \"\"\"\n",
    "        The function trains a random-forrest for each number of trees given in the n_estimators list and determines it's auc-score on the X_test set.\n",
    "        Input:\n",
    "            n_estimators: a list of numbers specifying the number of estimators (trees) in the forrests.\n",
    "            X_train: training set of samples\n",
    "            X_test: test set of samples\n",
    "            y_train: training set of labels\n",
    "            y_test: test set of labels\n",
    "        Output:\n",
    "            a list of auc-scores\n",
    "            a list of acccuracies\n",
    "            the best classifier: according to the auc criterium\n",
    "            best_preds: the list of predictions of the auc-best random-forrest predictor\n",
    "            maxAuc: the auc of the auc-best classifier\n",
    "            accOfBest: the accuracy of the auc-best classifier\n",
    "\n",
    "    \"\"\"\n",
    "    aucs=[]\n",
    "    accuracies=[]\n",
    "    best_preds = []\n",
    "    maxAuc = 0\n",
    "    for nofest in n_estimators:\n",
    "        rnd_clf = RandomForestClassifier(n_estimators=nofest, max_leaf_nodes=None, n_jobs=-1, random_state=42)\n",
    "        rnd_clf.fit(X_train,y_train)\n",
    "        y_pred = rnd_clf.predict(X_test)\n",
    "        acc = rnd_clf.score(X_test, y_test.values)\n",
    "        accuracies.append(acc)\n",
    "        rocAuc = roc_auc_score(y_test.values, y_pred)\n",
    "        aucs.append(rocAuc)\n",
    "        if(rocAuc > maxAuc):\n",
    "            maxAuc = rocAuc\n",
    "            best_preds = y_pred\n",
    "            accOfBest = acc\n",
    "            best_clf = rnd_clf\n",
    "\n",
    "    return aucs, accuracies, best_clf, best_preds, maxAuc, accOfBest\n",
    "\n",
    "# compare with the single decision-tree of the previous solution above:\n",
    "auc, acc, _, _, _, _ = rf_auc([1],  X_train, X_test, y_train, y_test)\n",
    "REPORT[\"auc single tree forrest\"]=auc\n",
    "REPORT[\"acc single tree forrest\"]=acc\n",
    "print(f\"\\n Equipment Type: {equipment_type}\")\n",
    "print(f\"\\n auc: {auc}\")\n",
    "print(f\"\\n accuracy: {acc}\")\n",
    "#for i in range(len(truth)):\n",
    "#    if( truth[i].sum() > 0 or preds[i].sum() > 0):\n",
    "#        print(f\"\\n {truth[i]} -- {preds[i]}\")"
   ]
  },
  {
   "cell_type": "code",
   "execution_count": 111,
   "metadata": {},
   "outputs": [],
   "source": [
    "rnd_clf = RandomForestClassifier(n_estimators=2, max_leaf_nodes=None, n_jobs=-1, random_state=42)\n",
    "rnd_clf.fit(X_train,y_train)\n",
    "y_pred = rnd_clf.predict(X_test)\n",
    "rocAuc = roc_auc_score(y_test.values, y_pred)\n"
   ]
  },
  {
   "cell_type": "code",
   "execution_count": 114,
   "metadata": {},
   "outputs": [
    {
     "name": "stdout",
     "output_type": "stream",
     "text": [
      "<class 'numpy.ndarray'>\n",
      "<class 'numpy.ndarray'>\n",
      "[[0 0 0 0 0 0]\n",
      " [0 0 0 0 0 0]\n",
      " [0 0 0 0 0 0]\n",
      " ...\n",
      " [0 0 0 0 0 0]\n",
      " [0 0 0 0 0 0]\n",
      " [0 0 0 0 0 0]] [[0 0 0 0 0 0]\n",
      " [0 0 0 0 0 0]\n",
      " [0 0 0 0 0 0]\n",
      " ...\n",
      " [0 0 0 0 0 0]\n",
      " [0 0 0 0 0 0]\n",
      " [0 0 0 0 0 0]]\n"
     ]
    }
   ],
   "source": [
    "print(type(y_test.values))\n",
    "print(type(y_pred))\n",
    "print(y_test.values, y_pred)"
   ]
  },
  {
   "cell_type": "code",
   "execution_count": 36,
   "metadata": {},
   "outputs": [],
   "source": [
    "# Try to find the best number of estimators (trees in the forrest):\n",
    "#==================================================================\n",
    "import numpy as np\n",
    "\n",
    "n_estimators = np.arange(100, 1000, 100)\n",
    "aucs, accs, best_classifier, best_preds, bestAUC, accOfBest = rf_auc(n_estimators, X_train, X_test, y_train, y_test)\n",
    "REPORT[\"auc best forrest\"]=bestAUC\n",
    "REPORT[\"acc best forrest\"]=accOfBest\n",
    "\n",
    "aucp = np.array(aucs)\n",
    "accp = np.array(accs)\n"
   ]
  },
  {
   "cell_type": "code",
   "execution_count": 37,
   "metadata": {},
   "outputs": [
    {
     "data": {
      "image/png": "[encoded data removed]",
      "text/plain": [
       "<Figure size 432x288 with 1 Axes>"
      ]
     },
     "metadata": {
      "needs_background": "light"
     },
     "output_type": "display_data"
    },
    {
     "data": {
      "image/png": "[encoded data removed]",
      "text/plain": [
       "<Figure size 432x288 with 1 Axes>"
      ]
     },
     "metadata": {
      "needs_background": "light"
     },
     "output_type": "display_data"
    }
   ],
   "source": [
    "# Plot the auc-scores over the number of trees in the random-forrest:\n",
    "#====================================================================\n",
    "import matplotlib.pyplot as plt \n",
    "\n",
    "_, ax = plt.subplots()\n",
    "ax.plot(n_estimators, aucp, label=\"ROC AUC\")\n",
    "ax.plot(n_estimators, accp, label=\"Accuracy\")\n",
    "ax.grid()\n",
    "ax.legend(loc='center', shadow=True, fontsize='large')\n",
    "plt.title(f\"Equipment type:{equipment_type}\")\n",
    "plt.show()\n",
    "\n",
    "_, ax = plt.subplots()\n",
    "ax.plot(n_estimators, aucp, label=\"ROC-AUC\")\n",
    "ax.legend(loc=\"upper center\", fontsize=\"medium\")\n",
    "ax.grid()\n",
    "plt.show()"
   ]
  },
  {
   "cell_type": "code",
   "execution_count": 38,
   "metadata": {},
   "outputs": [
    {
     "name": "stdout",
     "output_type": "stream",
     "text": [
      "max auc: 0.7112718922992842, with 700 estimators, having accuracy of: 0.9785 \n",
      "\n",
      "best_accuracy: 0.9785, worst_accuracy: 0.9765\n"
     ]
    }
   ],
   "source": [
    "# find the best choice for the number of estimators by calculation:\n",
    "#==================================================================\n",
    "best_nof_estimators = n_estimators[np.argmax(aucp)]\n",
    "REPORT[\"Number of estimators best forrest\"]=best_nof_estimators\n",
    "best_accuracy = np.max(accp)\n",
    "worst_accuracy = np.min(accp)\n",
    "REPORT[\"Best accuracy of all forrests\"]=best_accuracy\n",
    "REPORT[\"Worst accuracy of all forrests\"]=worst_accuracy\n",
    "print(f\"max auc: {np.max(aucp)}, with {best_nof_estimators} estimators, having accuracy of: {accOfBest} \")\n",
    "print(f\"\\nbest_accuracy: {best_accuracy}, worst_accuracy: {worst_accuracy}\")"
   ]
  },
  {
   "cell_type": "code",
   "execution_count": 39,
   "metadata": {},
   "outputs": [
    {
     "name": "stdout",
     "output_type": "stream",
     "text": [
      "{'csv_data_file_path': './dataset/ai4i2020.csv', 'equipment_type': 'all', 'data_columns': ['L', 'M', 'H', 'Air temperature [K]', 'Process temperature [K]', 'Rotational speed [rpm]', 'Torque [Nm]', 'Tool wear [min]', 'Machine failure', 'TWF', 'HDF', 'PWF', 'OSF', 'RNF'], 'test_size': 0.2, 'X.shape': (10000, 8), 'y.shape': (10000, 6), 'mean acc single tree': 0.972, 'auc single tree': 0.6833586074647383, 'file name graph viz': 'machine_tree_depth6', 'auc single tree forrest': [0.7124684235514271], 'acc single tree forrest': [0.979], 'auc best forrest': 0.7112718922992842, 'acc best forrest': 0.9785, 'Number of estimators best forrest': 700, 'Best accuracy of all forrests': 0.9785, 'Worst accuracy of all forrests': 0.9765}\n"
     ]
    }
   ],
   "source": [
    "print(REPORT)"
   ]
  },
  {
   "cell_type": "code",
   "execution_count": 50,
   "metadata": {},
   "outputs": [
    {
     "name": "stdout",
     "output_type": "stream",
     "text": [
      "L 0.01\n",
      "M 0.01\n",
      "H 0.01\n",
      "Air temperature [K] 0.13\n",
      "Process temperature [K] 0.12\n",
      "Rotational speed [rpm] 0.24\n",
      "Torque [Nm] 0.31\n",
      "Tool wear [min] 0.17\n"
     ]
    }
   ],
   "source": [
    "# feature importance for the best performing forrest:\n",
    "\n",
    "for name, score in zip(data_columns, best_classifier.feature_importances_):\n",
    "    print(name, '{:.2f}'.format(score))"
   ]
  },
  {
   "cell_type": "markdown",
   "metadata": {},
   "source": [
    "## Summary: ##\n",
    "1. The number of estimators in the best random-forrest is not a constant, maybe due to the random feature selection in the decision-tree algorithm used by scikit.\n",
    "2. The auc of the random-forrest is higher than the auc of a single decision tree.\n",
    "3. The best and the worst accuracy are almost identical, proving once more, that accuracy is not usefull in this heavily unbalanced data-set.\n",
    "4. The best random-forrest measured by auc is not necessarily the best measured by accuracy.\n",
    "5. Running the rf_auc function several times, we find that the best number of estimators varies considerably.\n",
    "6. The confusion matrix below shows the strong and weak points of the auc-best random-forrest\n"
   ]
  },
  {
   "cell_type": "code",
   "execution_count": 116,
   "metadata": {},
   "outputs": [],
   "source": [
    "def OheToSingleCodedModes(ohe_labels, code=\"named\"):\n",
    "    \"\"\"\n",
    "        The failure-modes are OHE or rather (More-than-one-hot-) encoded.\n",
    "        This function encodes them as integers (code=\"numeric\") or like the column names (code=\"named\"), \n",
    "        but takes only single-mode machine-failures correctly into account.\n",
    "        Multi-mode machine-failures are jointly encoded as \"NonStandardMode\".\n",
    "        \n",
    "        Input:\n",
    "            ohe_labels: an array of arrays of zero and ones\n",
    "            code: target encoding - default = \"named\"=column names of the original dataframe, \n",
    "                                    \"numeric\" = integers\n",
    "        Output:\n",
    "            an array of integers.\n",
    "    \"\"\"\n",
    "    coded_modes = []\n",
    "    if(code == \"numeric\"):\n",
    "        # ...this was intended for stratified train-test-split...\n",
    "        # build a mode dictionary for the standard failure modes (given in the explantion above). \n",
    "        # No multi-mode failures are accounted for:\n",
    "        modes = {\"\".join(map(str,[0,0,0,0,0,0])): 0, #'No Machine failure',\n",
    "            \"\".join(map(str,[1,1,0,0,0,0])): 1, #'TWF',\n",
    "            \"\".join(map(str,[1,0,1,0,0,0])): 2, #'HDF', \n",
    "            \"\".join(map(str,[1,0,0,1,0,0])): 3, #'PWF', \n",
    "            \"\".join(map(str,[1,0,0,0,1,0])): 4, #'OSF',\n",
    "            \"\".join(map(str,[0,0,0,0,0,1])): 5,#'RNF',\n",
    "        }\n",
    "        # machine failures consisting of multiple modes are designated as \"NonStandardMode\":\n",
    "        for v in ohe_labels:\n",
    "            coded_modes.append(modes.get(\"\".join(map(str,v)), 6)) # 6  ==\"NonStandardMode\"\n",
    "    else:\n",
    "        modes = {\"\".join(map(str,[0,0,0,0,0,0])): 'No Machine failure',\n",
    "            \"\".join(map(str,[1,1,0,0,0,0])): 'TWF',\n",
    "            \"\".join(map(str,[1,0,1,0,0,0])): 'HDF', \n",
    "            \"\".join(map(str,[1,0,0,1,0,0])): 'PWF', \n",
    "            \"\".join(map(str,[1,0,0,0,1,0])): 'OSF',\n",
    "            \"\".join(map(str,[0,0,0,0,0,1])): 'RNF',\n",
    "        }\n",
    "        # machine failures consisting of multiple modes are designated as \"NonStandardMode\":\n",
    "        for v in ohe_labels:\n",
    "            coded_modes.append(modes.get(\"\".join(map(str,v)),\"NonStandardMode\")) \n",
    "\n",
    "    return coded_modes\n",
    "\n",
    "# clear mode dictionary:\n",
    "clear_modes =  {\n",
    "    0 : 'No Machine failure',\n",
    "    1 : 'TWF',\n",
    "    2 : 'HDF', \n",
    "    3 : 'PWF', \n",
    "    4 : 'OSF',\n",
    "    5 : 'RNF',\n",
    "    6 : \"NonStandardMode\",\n",
    "}\n",
    "\n",
    "modes_OHE = {\n",
    "    0 : [0,0,0,0,0,0], # 'No Machine failure\n",
    "    1 : [1,1,0,0,0,0], # 'TWF'\n",
    "    2 : [1,0,1,0,0,0], # 'HDF' \n",
    "    3 : [1,0,0,1,0,0], # 'PWF' \n",
    "    4 : [1,0,0,0,1,0], # 'OSF'\n",
    "    5 : [0,0,0,0,0,1], # 'RNF'\n",
    "    6 : [1,1,1,0,0,0], # 'NonStandardMode'\n",
    "}"
   ]
  },
  {
   "cell_type": "code",
   "execution_count": null,
   "metadata": {},
   "outputs": [],
   "source": [
    "# plot a confusion matrix for the random-forrest classifier:\n",
    "#============================================================\n",
    "from sklearn.metrics import confusion_matrix, ConfusionMatrixDisplay\n",
    "\n",
    "true_modes = OheToSingleCodedModes(y_test.values, code=\"named\")\n",
    "pred_modes = OheToSingleCodedModes(best_preds, code=\"named\")\n",
    "\n",
    "labels = ['No Machine failure','TWF','HDF','PWF','OSF','RNF',\"NonStandardMode\"]\n",
    "\n",
    "\n",
    "# PLOT THE CONFUSION MATRIX WITH THE NEXT CELL"
   ]
  },
  {
   "cell_type": "code",
   "execution_count": 78,
   "metadata": {},
   "outputs": [
    {
     "data": {
      "text/plain": [
       "<sklearn.metrics._plot.confusion_matrix.ConfusionMatrixDisplay at 0x2567f245130>"
      ]
     },
     "execution_count": 78,
     "metadata": {},
     "output_type": "execute_result"
    },
    {
     "data": {
      "image/png": "[encoded data removed]",
      "text/plain": [
       "<Figure size 432x288 with 2 Axes>"
      ]
     },
     "metadata": {
      "needs_background": "light"
     },
     "output_type": "display_data"
    }
   ],
   "source": [
    "# chose a mode of presentation of the confusion matrix:\n",
    "cm = confusion_matrix(true_modes, pred_modes, labels = labels, normalize=\"true\") # row - normalization\n",
    "#cm = confusion_matrix(true_modes, pred_modes, labels = labels, normalize=\"pred\") # column -normalization\n",
    "#cm = confusion_matrix(true_modes, pred_modes, labels = labels, normalize=\"all\") # over all entries - normalization\n",
    "#cm = confusion_matrix(true_modes, pred_modes, labels = labels, normalize=None) # absolute numbers\n",
    "disp = ConfusionMatrixDisplay(cm, display_labels=labels)\n",
    "#disp.ax_.set_title(f\"Equipment type: {equipment_type}\") # seems to be possible in scikit v1.0\n",
    "disp.plot()"
   ]
  },
  {
   "cell_type": "code",
   "execution_count": 122,
   "metadata": {},
   "outputs": [
    {
     "name": "stdout",
     "output_type": "stream",
     "text": [
      "\n",
      " Equipment Type: all\n",
      "\n",
      " auc: [0.6908578770328067]\n",
      "\n",
      " accuracy: [0.9705]\n"
     ]
    }
   ],
   "source": [
    "from sklearn.ensemble import GradientBoostingClassifier\n",
    "from sklearn.metrics import roc_auc_score\n",
    "\n",
    "def gbc_auc(n_estimators, X_train, X_test, y_train, y_test):\n",
    "    \"\"\"\n",
    "        The function trains a random-forrest for each number of trees given in the n_estimators list and determines it's auc-score on the X_test set.\n",
    "        Input:\n",
    "            n_estimators: a list of numbers specifying the number of estimators (trees) in the forrests.\n",
    "            X_train: training set of samples\n",
    "            X_test: test set of samples\n",
    "            y_train: training set of labels\n",
    "            y_test: test set of labels\n",
    "        Output:\n",
    "            a list of auc-scores\n",
    "            a list of acccuracies\n",
    "            the best classifier: according to the auc criterium\n",
    "            best_preds: the list of predictions of the auc-best random-forrest predictor\n",
    "            maxAuc: the auc of the auc-best classifier\n",
    "            accOfBest: the accuracy of the auc-best classifier\n",
    "\n",
    "    \"\"\"\n",
    "    aucs=[]\n",
    "    accuracies=[]\n",
    "    best_preds = []\n",
    "    maxAuc = 0\n",
    "    y_train_num = OheToSingleCodedModes(y_train.values, code='numeric')\n",
    "    y_test_num = np.array(OheToSingleCodedModes(y_test.values, code='numeric'))\n",
    "    \n",
    "    for nofest in n_estimators:\n",
    "        gb_clf = GradientBoostingClassifier(n_estimators=nofest, random_state=42)\n",
    "        gb_clf.fit(X_train,y_train_num)\n",
    "        y_pred = gb_clf.predict(X_test)\n",
    "        \n",
    "        acc = gb_clf.score(X_test, y_test_num)\n",
    "        accuracies.append(acc)\n",
    "\n",
    "        yp_ohe = [modes_OHE[n] for n in y_pred]\n",
    "        rocAuc = roc_auc_score(y_test.values, yp_ohe)\n",
    "        aucs.append(rocAuc)\n",
    "\n",
    "        if(rocAuc > maxAuc):\n",
    "            maxAuc = rocAuc\n",
    "            best_preds = yp_ohe\n",
    "            accOfBest = acc\n",
    "            best_clf = rnd_clf\n",
    "\n",
    "    return aucs, accuracies, best_clf, best_preds, maxAuc, accOfBest\n",
    "\n",
    "# compare with the single decision-tree of the previous solution above:\n",
    "auc, acc, _, _, _, _ = gbc_auc([1],  X_train, X_test, y_train, y_test)\n",
    "REPORT[\"auc single tree gradientboost forrest\"]=auc\n",
    "REPORT[\"acc single tree gradientboost forrest\"]=acc\n",
    "print(f\"\\n Equipment Type: {equipment_type}\")\n",
    "print(f\"\\n auc: {auc}\")\n",
    "print(f\"\\n accuracy: {acc}\")\n",
    "#for i in range(len(truth)):\n",
    "#    if( truth[i].sum() > 0 or preds[i].sum() > 0):\n",
    "#        print(f\"\\n {truth[i]} -- {preds[i]}\")"
   ]
  },
  {
   "cell_type": "code",
   "execution_count": 126,
   "metadata": {},
   "outputs": [],
   "source": [
    "# Try to find the best number of GradientBoostingClassifier estimators (trees in the forrest):\n",
    "#=============================================================================================\n",
    "import numpy as np\n",
    "\n",
    "#n_estimators = np.arange(100, 1000, 100)\n",
    "n_estimators=[100]\n",
    "gb_aucs, gb_accs, gb_best_classifier, gb_best_preds, gb_bestAUC, gb_accOfBest = gbc_auc(n_estimators, X_train, X_test, y_train, y_test)\n",
    "REPORT[\"auc best gradientboost forrest\"]=gb_bestAUC\n",
    "REPORT[\"acc best gradientboost forrest\"]=gb_accOfBest\n",
    "\n",
    "gb_aucp = np.array(gb_aucs)\n",
    "gb_accp = np.array(gb_accs)"
   ]
  },
  {
   "cell_type": "code",
   "execution_count": 127,
   "metadata": {},
   "outputs": [
    {
     "name": "stdout",
     "output_type": "stream",
     "text": [
      "max auc: 0.6882957680268058, with 100 estimators, having accuracy of: 0.9725 \n",
      "\n",
      "best_accuracy: 0.9725, worst_accuracy: 0.9725\n"
     ]
    }
   ],
   "source": [
    "# find the best choice for the number of estimators by calculation:\n",
    "#==================================================================\n",
    "gb_best_nof_estimators = n_estimators[np.argmax(gb_aucp)]\n",
    "REPORT[\"Number of estimators best gradientboost forrest\"]=gb_best_nof_estimators\n",
    "gb_best_accuracy = np.max(gb_accp)\n",
    "gb_worst_accuracy = np.min(gb_accp)\n",
    "REPORT[\"Best accuracy of all gradientboost forrests\"]=gb_best_accuracy\n",
    "REPORT[\"Worst accuracy of all gradientboost forrests\"]=gb_worst_accuracy\n",
    "print(f\"max auc: {np.max(gb_aucp)}, with {gb_best_nof_estimators} estimators, having accuracy of: {gb_accOfBest} \")\n",
    "print(f\"\\nbest_accuracy: {gb_best_accuracy}, worst_accuracy: {gb_worst_accuracy}\")"
   ]
  },
  {
   "cell_type": "code",
   "execution_count": 133,
   "metadata": {},
   "outputs": [],
   "source": [
    "# plot a confusion matrix for the GradientBoostingClassifier classifier:\n",
    "#============================================================\n",
    "gb_pred_modes = OheToSingleCodedModes(gb_best_preds, code='named')\n",
    "gb_true_modes = OheToSingleCodedModes(y_test.values, code=\"named\")\n",
    "\n",
    "labels = ['No Machine failure','TWF','HDF','PWF','OSF','RNF',\"NonStandardMode\"]\n",
    "\n",
    "# PLOT THE CONFUSION MATRIX WITH THE NEXT CELL"
   ]
  },
  {
   "cell_type": "code",
   "execution_count": 135,
   "metadata": {},
   "outputs": [
    {
     "data": {
      "text/plain": [
       "<sklearn.metrics._plot.confusion_matrix.ConfusionMatrixDisplay at 0x2560b4de670>"
      ]
     },
     "execution_count": 135,
     "metadata": {},
     "output_type": "execute_result"
    },
    {
     "data": {
      "image/png": "[encoded data removed]",
      "text/plain": [
       "<Figure size 432x288 with 2 Axes>"
      ]
     },
     "metadata": {
      "needs_background": "light"
     },
     "output_type": "display_data"
    }
   ],
   "source": [
    "# chose a mode of presentation of the confusion matrix:\n",
    "#======================================================\n",
    "cm = confusion_matrix(gb_true_modes, gb_pred_modes, labels = labels, normalize=\"true\") # row - normalization\n",
    "#cm = confusion_matrix(gb_true_modes, gb_pred_modes, labels = labels, normalize=\"pred\") # column -normalization\n",
    "#cm = confusion_matrix(gb_true_modes, gb_pred_modes, labels = labels, normalize=\"all\") # over all entries - normalization\n",
    "#cm = confusion_matrix(gb_true_modes, gb_pred_modes, labels = labels, normalize=None) # absolute numbers\n",
    "disp = ConfusionMatrixDisplay(cm, display_labels=labels)\n",
    "disp.plot()"
   ]
  }
 ],
 "metadata": {
  "interpreter": {
   "hash": "ca90302541b944c19890e5c29b941208da1ad9ca722fc0f4e3809bd9386c4ac4"
  },
  "kernelspec": {
   "display_name": "Python 3.9.7 64-bit (conda)",
   "name": "python3"
  },
  "language_info": {
   "codemirror_mode": {
    "name": "ipython",
    "version": 3
   },
   "file_extension": ".py",
   "mimetype": "text/x-python",
   "name": "python",
   "nbconvert_exporter": "python",
   "pygments_lexer": "ipython3",
   "version": "3.9.7"
  }
 },
 "nbformat": 4,
 "nbformat_minor": 5
}
