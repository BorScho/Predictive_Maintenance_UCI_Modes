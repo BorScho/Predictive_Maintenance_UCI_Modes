{
 "cells": [
  {
   "cell_type": "markdown",
   "metadata": {},
   "source": [
    "# Support Vector Machine --- Predict Failure Mode #\n",
    "# UCI dataset \"AI4I 2020 Predictive Maintenance Dataset Data Set\" #\n",
    "\n",
    "Online-Source [here](https://archive.ics.uci.edu/ml/datasets/AI4I+2020+Predictive+Maintenance+Dataset#)\n",
    "\n",
    " AI4I 2020 Predictive Maintenance Dataset Data Set\n",
    "Download: Data Folder, Data Set Description\n",
    "\n",
    "Abstract: The AI4I 2020 Predictive Maintenance Dataset is a synthetic dataset that reflects real predictive maintenance data encountered in industry.\n",
    "\n",
    "| | | | | | |\t\n",
    "|:---|:---:|:---|:---:|:---|:---:|\n",
    "|Data Set Characteristics: |Multivariate, Time-Series |Number of Instances: |10.000 |Area: |Computer |\n",
    "|Attribute Characteristics: |Real |Number of Attributes: |14 | Date Donated: | 2020-08-30 |\n",
    "|Associated Tasks: | Classification, Regression, Causal-Discovery | Missing Values? |N\\A|Number of Web Hits: | 16614 |\n",
    "\n",
    "\n",
    "Source:\n",
    "\n",
    "Stephan Matzka, School of Engineering - Technology and Life, Hochschule für Technik und Wirtschaft Berlin, 12459 Berlin, Germany, stephan.matzka '@' htw-berlin.de\n",
    "\n",
    "Data Set Information:\n",
    "\n",
    "Since real predictive maintenance datasets are generally difficult to obtain and in particular difficult to publish, we present and provide a synthetic dataset that reflects real predictive maintenance encountered in industry to the best of our knowledge.\n",
    "\n",
    "\n",
    "\n",
    "\n",
    "Attribute Information:\n",
    "\n",
    "The dataset consists of 10 000 data points stored as rows with 14 features in columns <br>\n",
    "<b> UID : </b> unique identifier ranging from 1 to 10000<br>\n",
    "<b> product ID: </b>consisting of a letter L, M, or H for low (50% of all products), medium (30%) and high (20%) as product quality variants and a variant-specific serial number <br>\n",
    "<b> air temperature [K]: </b> generated using a random walk process later normalized to a standard deviation of 2 K around 300 K <br>\n",
    "<b> process temperature [K]: </b> generated using a random walk process normalized to a standard deviation of 1 K, added to the air temperature plus 10 K. <br>\n",
    "<b> rotational speed [rpm]: </b> calculated from a power of 2860 W, overlaid with a normally distributed noise <br>\n",
    "<b> torque [Nm]: </b> torque values are normally distributed around 40 Nm with a Ïƒ = 10 Nm and no negative values. <br>\n",
    "<b> tool wear [min]: </b> The quality variants H/M/L add 5/3/2 minutes of tool wear to the used tool in the process. and a\n",
    "'machine failure' label that indicates, whether the machine has failed in this particular datapoint for any of the following failure modes are true. <br>\n",
    "\n",
    "The machine failure consists of five independent failure modes <br>\n",
    "<b> tool wear failure (TWF): </b> the tool will be replaced or fail at a randomly selected tool wear time between 200 â€“ 240 mins (120 times in our dataset). At this point in time, the tool is replaced 69 times, and fails 51 times (randomly assigned). <br>\n",
    "<b> heat dissipation failure (HDF): </b> heat dissipation causes a process failure, if the difference between air- and process temperature is below 8.6 K and the toolâ€™s rotational speed is below 1380 rpm. This is the case for 115 data points. <br>\n",
    "<b> power failure (PWF): </b> the product of torque and rotational speed (in rad/s) equals the power required for the process. If this power is below 3500 W or above 9000 W, the process fails, which is the case 95 times in our dataset. <br>\n",
    "<b> overstrain failure (OSF): </b> if the product of tool wear and torque exceeds 11,000 minNm for the L product variant (12,000 M, 13,000 H), the process fails due to overstrain. This is true for 98 datapoints. <br>\n",
    "<b> random failures (RNF): </b> each process has a chance of 0,1 % to fail regardless of its process parameters. This is the case for only 5 datapoints, less than could be expected for 10,000 datapoints in our dataset.<br>\n",
    "<br>\n",
    "If at least one of the above failure modes is true, the process fails and the 'machine failure' label is set to 1. It is therefore not transparent to the machine learning method, which of the failure modes has caused the process to fail\n",
    "\n",
    "Relevant Papers:\n",
    "\n",
    "Stephan Matzka, 'Explainable Artificial Intelligence for Predictive Maintenance Applications', Third International Conference on Artificial Intelligence for Industries (AI4I 2020), 2020 (in press)\n",
    "\n",
    "\n",
    "Citation Request:\n",
    "\n",
    "Dua, D. and Graff, C. (2019). UCI Machine Learning Repository [http://archive.ics.uci.edu/ml]. Irvine, CA: University of California, School of Information and Computer Science. "
   ]
  },
  {
   "cell_type": "markdown",
   "metadata": {},
   "source": [
    "# <b> What is done in this notebook? </b> #\n",
    "Every data record contains information on the failure and the failure mode.\n",
    "In this notebook we try to predict, which failure mode applies to a given record.\n",
    "\n",
    "To this end we chose a subset of features of the dataset and use:\n",
    "1. a support vector machine\n",
    "\n",
    "\n",
    "## Plan: ##\n",
    "1. enhance the failue modes by a new one: NOF - no failure. Thus a predictor has the possibility to move probability mass to this mode in case of no failure.\n",
    "2. try different Support Vector Machines:\n",
    "<br>2.1 Linear SVM\n",
    "<br>2.2 RBF SVM\n",
    "3. determine the best parameters for the SVC measured by AUC\n"
   ]
  },
  {
   "cell_type": "markdown",
   "metadata": {},
   "source": [
    "## Accuracy is not the correct metric ##\n",
    "Machine failure is a rare event, i.e. accuracy is no meaningful performace-measure since a classifier allways predicting \"No Machine Failure\" will have a high accurcy without being usefull at all.<br>\n",
    "We use:<br>\n",
    "+ AUC area under (ROC) curve ---\n"
   ]
  },
  {
   "cell_type": "code",
   "execution_count": 70,
   "metadata": {},
   "outputs": [],
   "source": [
    "%reset -f"
   ]
  },
  {
   "cell_type": "code",
   "execution_count": 71,
   "metadata": {},
   "outputs": [],
   "source": [
    "import pandas as pd\n",
    "import os\n",
    "from pathlib import Path\n",
    "import numpy as np"
   ]
  },
  {
   "cell_type": "code",
   "execution_count": 72,
   "metadata": {},
   "outputs": [],
   "source": [
    "# define a dictionary to collect all relevant results on the way:\n",
    "#=================================================================\n",
    "REPORT = {}"
   ]
  },
  {
   "cell_type": "code",
   "execution_count": 73,
   "metadata": {},
   "outputs": [],
   "source": [
    "# READ THE DATASET INTO A DATAFRAME:\n",
    "# ==================================\n",
    "\n",
    "# use absolute path:\n",
    "\n",
    "#base_path = Path(\"C:/Users/BoSc/Documents/1000_Machine_Learning/1000_UCI_datasets/predictive_maintenance_dataset\")\n",
    "#csv_data_file_path = Path(\"/dataset/ai4i2020.csv\")\n",
    "#df = pd.read_csv(os.path.join(base_path, csv_data_file_path))\n",
    "\n",
    "# use path relative to the notebook:\n",
    "\n",
    "csv_data_file_path = Path(\"./dataset/ai4i2020.csv\")\n",
    "df = pd.read_csv(csv_data_file_path)\n",
    "\n",
    "REPORT[\"csv_data_file_path\"] = \"./dataset/ai4i2020.csv\""
   ]
  },
  {
   "cell_type": "code",
   "execution_count": 74,
   "metadata": {},
   "outputs": [
    {
     "data": {
      "text/html": [
       "<div>\n",
       "<style scoped>\n",
       "    .dataframe tbody tr th:only-of-type {\n",
       "        vertical-align: middle;\n",
       "    }\n",
       "\n",
       "    .dataframe tbody tr th {\n",
       "        vertical-align: top;\n",
       "    }\n",
       "\n",
       "    .dataframe thead th {\n",
       "        text-align: right;\n",
       "    }\n",
       "</style>\n",
       "<table border=\"1\" class=\"dataframe\">\n",
       "  <thead>\n",
       "    <tr style=\"text-align: right;\">\n",
       "      <th></th>\n",
       "      <th>UDI</th>\n",
       "      <th>Product ID</th>\n",
       "      <th>Type</th>\n",
       "      <th>Air temperature [K]</th>\n",
       "      <th>Process temperature [K]</th>\n",
       "      <th>Rotational speed [rpm]</th>\n",
       "      <th>Torque [Nm]</th>\n",
       "      <th>Tool wear [min]</th>\n",
       "      <th>Machine failure</th>\n",
       "      <th>TWF</th>\n",
       "      <th>HDF</th>\n",
       "      <th>PWF</th>\n",
       "      <th>OSF</th>\n",
       "      <th>RNF</th>\n",
       "    </tr>\n",
       "  </thead>\n",
       "  <tbody>\n",
       "    <tr>\n",
       "      <th>0</th>\n",
       "      <td>1</td>\n",
       "      <td>M14860</td>\n",
       "      <td>M</td>\n",
       "      <td>298.1</td>\n",
       "      <td>308.6</td>\n",
       "      <td>1551</td>\n",
       "      <td>42.8</td>\n",
       "      <td>0</td>\n",
       "      <td>0</td>\n",
       "      <td>0</td>\n",
       "      <td>0</td>\n",
       "      <td>0</td>\n",
       "      <td>0</td>\n",
       "      <td>0</td>\n",
       "    </tr>\n",
       "    <tr>\n",
       "      <th>1</th>\n",
       "      <td>2</td>\n",
       "      <td>L47181</td>\n",
       "      <td>L</td>\n",
       "      <td>298.2</td>\n",
       "      <td>308.7</td>\n",
       "      <td>1408</td>\n",
       "      <td>46.3</td>\n",
       "      <td>3</td>\n",
       "      <td>0</td>\n",
       "      <td>0</td>\n",
       "      <td>0</td>\n",
       "      <td>0</td>\n",
       "      <td>0</td>\n",
       "      <td>0</td>\n",
       "    </tr>\n",
       "    <tr>\n",
       "      <th>2</th>\n",
       "      <td>3</td>\n",
       "      <td>L47182</td>\n",
       "      <td>L</td>\n",
       "      <td>298.1</td>\n",
       "      <td>308.5</td>\n",
       "      <td>1498</td>\n",
       "      <td>49.4</td>\n",
       "      <td>5</td>\n",
       "      <td>0</td>\n",
       "      <td>0</td>\n",
       "      <td>0</td>\n",
       "      <td>0</td>\n",
       "      <td>0</td>\n",
       "      <td>0</td>\n",
       "    </tr>\n",
       "  </tbody>\n",
       "</table>\n",
       "</div>"
      ],
      "text/plain": [
       "   UDI Product ID Type  Air temperature [K]  Process temperature [K]  \\\n",
       "0    1     M14860    M                298.1                    308.6   \n",
       "1    2     L47181    L                298.2                    308.7   \n",
       "2    3     L47182    L                298.1                    308.5   \n",
       "\n",
       "   Rotational speed [rpm]  Torque [Nm]  Tool wear [min]  Machine failure  TWF  \\\n",
       "0                    1551         42.8                0                0    0   \n",
       "1                    1408         46.3                3                0    0   \n",
       "2                    1498         49.4                5                0    0   \n",
       "\n",
       "   HDF  PWF  OSF  RNF  \n",
       "0    0    0    0    0  \n",
       "1    0    0    0    0  \n",
       "2    0    0    0    0  "
      ]
     },
     "execution_count": 74,
     "metadata": {},
     "output_type": "execute_result"
    }
   ],
   "source": [
    "# TAKE A LOOK AT THE DATA:\n",
    "# ========================\n",
    "\n",
    "df[:3]"
   ]
  },
  {
   "cell_type": "markdown",
   "metadata": {},
   "source": [
    "## Data and Target Preparation: ##\n",
    "### predictive columns - a selection of columns believed to have some predictive power <br> ###\n",
    "### target columns - the columns to be predicted ###"
   ]
  },
  {
   "cell_type": "code",
   "execution_count": 75,
   "metadata": {},
   "outputs": [
    {
     "data": {
      "text/html": [
       "<div>\n",
       "<style scoped>\n",
       "    .dataframe tbody tr th:only-of-type {\n",
       "        vertical-align: middle;\n",
       "    }\n",
       "\n",
       "    .dataframe tbody tr th {\n",
       "        vertical-align: top;\n",
       "    }\n",
       "\n",
       "    .dataframe thead th {\n",
       "        text-align: right;\n",
       "    }\n",
       "</style>\n",
       "<table border=\"1\" class=\"dataframe\">\n",
       "  <thead>\n",
       "    <tr style=\"text-align: right;\">\n",
       "      <th></th>\n",
       "      <th>L</th>\n",
       "      <th>M</th>\n",
       "      <th>H</th>\n",
       "      <th>Air temperature [K]</th>\n",
       "      <th>Process temperature [K]</th>\n",
       "      <th>Rotational speed [rpm]</th>\n",
       "      <th>Torque [Nm]</th>\n",
       "      <th>Tool wear [min]</th>\n",
       "      <th>Machine failure</th>\n",
       "      <th>TWF</th>\n",
       "      <th>HDF</th>\n",
       "      <th>PWF</th>\n",
       "      <th>OSF</th>\n",
       "      <th>RNF</th>\n",
       "    </tr>\n",
       "  </thead>\n",
       "  <tbody>\n",
       "    <tr>\n",
       "      <th>0</th>\n",
       "      <td>0.0</td>\n",
       "      <td>1.0</td>\n",
       "      <td>0.0</td>\n",
       "      <td>298.1</td>\n",
       "      <td>308.6</td>\n",
       "      <td>1551</td>\n",
       "      <td>42.8</td>\n",
       "      <td>0</td>\n",
       "      <td>0</td>\n",
       "      <td>0</td>\n",
       "      <td>0</td>\n",
       "      <td>0</td>\n",
       "      <td>0</td>\n",
       "      <td>0</td>\n",
       "    </tr>\n",
       "    <tr>\n",
       "      <th>1</th>\n",
       "      <td>1.0</td>\n",
       "      <td>0.0</td>\n",
       "      <td>0.0</td>\n",
       "      <td>298.2</td>\n",
       "      <td>308.7</td>\n",
       "      <td>1408</td>\n",
       "      <td>46.3</td>\n",
       "      <td>3</td>\n",
       "      <td>0</td>\n",
       "      <td>0</td>\n",
       "      <td>0</td>\n",
       "      <td>0</td>\n",
       "      <td>0</td>\n",
       "      <td>0</td>\n",
       "    </tr>\n",
       "    <tr>\n",
       "      <th>2</th>\n",
       "      <td>1.0</td>\n",
       "      <td>0.0</td>\n",
       "      <td>0.0</td>\n",
       "      <td>298.1</td>\n",
       "      <td>308.5</td>\n",
       "      <td>1498</td>\n",
       "      <td>49.4</td>\n",
       "      <td>5</td>\n",
       "      <td>0</td>\n",
       "      <td>0</td>\n",
       "      <td>0</td>\n",
       "      <td>0</td>\n",
       "      <td>0</td>\n",
       "      <td>0</td>\n",
       "    </tr>\n",
       "  </tbody>\n",
       "</table>\n",
       "</div>"
      ],
      "text/plain": [
       "     L    M    H  Air temperature [K]  Process temperature [K]  \\\n",
       "0  0.0  1.0  0.0                298.1                    308.6   \n",
       "1  1.0  0.0  0.0                298.2                    308.7   \n",
       "2  1.0  0.0  0.0                298.1                    308.5   \n",
       "\n",
       "   Rotational speed [rpm]  Torque [Nm]  Tool wear [min]  Machine failure  TWF  \\\n",
       "0                    1551         42.8                0                0    0   \n",
       "1                    1408         46.3                3                0    0   \n",
       "2                    1498         49.4                5                0    0   \n",
       "\n",
       "   HDF  PWF  OSF  RNF  \n",
       "0    0    0    0    0  \n",
       "1    0    0    0    0  \n",
       "2    0    0    0    0  "
      ]
     },
     "execution_count": 75,
     "metadata": {},
     "output_type": "execute_result"
    }
   ],
   "source": [
    "# chose dealing with only one quality-type (l, h, m) or all:\n",
    "#===========================================================\n",
    "from sklearn.preprocessing import OneHotEncoder\n",
    "\n",
    "equipment_type = 'all'\n",
    "#equipment_type = 'L'\n",
    "#equipment_type = 'M'\n",
    "#equipment_type = 'H'\n",
    "\n",
    "REPORT[\"equipment_type\"] = equipment_type\n",
    "\n",
    "data_columns = [\n",
    "    'Air temperature [K]',\n",
    "    'Process temperature [K]',\n",
    "    'Rotational speed [rpm]',\n",
    "    'Torque [Nm]',\n",
    "    'Tool wear [min]',\n",
    "    'Machine failure',\n",
    "    'TWF',\n",
    "    'HDF', \n",
    "    'PWF', \n",
    "    'OSF',\n",
    "    'RNF',\n",
    "    ]\n",
    "\n",
    "if(equipment_type != 'all'):\n",
    "    df_ = df[df['Type']== equipment_type]\n",
    "else:\n",
    "    df_ = df\n",
    "    df_type = df['Type']\n",
    "    df_type = df_type.values.reshape(-1,1)\n",
    "    enc = OneHotEncoder(sparse=False)\n",
    "    ohe_type= enc.fit_transform(df_type)\n",
    "    df_.insert(0, \"L\", ohe_type[:,1])\n",
    "    data_columns.insert(0,\"L\")\n",
    "    df_.insert(1, \"M\", ohe_type[:,2])\n",
    "    data_columns.insert(1, \"M\")\n",
    "    df_.insert(2, \"H\", ohe_type[:,0])\n",
    "    data_columns.insert(2, \"H\")\n",
    "\n",
    "data_df = df_[data_columns]\n",
    "REPORT[\"data_columns\"] = data_columns\n",
    "data_df[:3]"
   ]
  },
  {
   "cell_type": "code",
   "execution_count": 76,
   "metadata": {},
   "outputs": [
    {
     "data": {
      "text/plain": [
       "['L',\n",
       " 'M',\n",
       " 'H',\n",
       " 'Air temperature [K]',\n",
       " 'Process temperature [K]',\n",
       " 'Rotational speed [rpm]',\n",
       " 'Torque [Nm]',\n",
       " 'Tool wear [min]',\n",
       " 'Machine failure',\n",
       " 'TWF',\n",
       " 'HDF',\n",
       " 'PWF',\n",
       " 'OSF',\n",
       " 'RNF']"
      ]
     },
     "execution_count": 76,
     "metadata": {},
     "output_type": "execute_result"
    }
   ],
   "source": [
    "data_columns"
   ]
  },
  {
   "cell_type": "code",
   "execution_count": 77,
   "metadata": {},
   "outputs": [],
   "source": [
    "# PREPARE DATA AND LABELS:\n",
    "# ========================\n",
    "\n",
    "from sklearn.model_selection import train_test_split\n",
    "\n",
    "# predictive columns:\n",
    "predictive_columns = data_columns[:-6]\n",
    "X = data_df[predictive_columns]\n",
    "\n",
    "# target columns:\n",
    "target_columns = data_columns[-6:]\n",
    "y = data_df[target_columns]\n"
   ]
  },
  {
   "cell_type": "code",
   "execution_count": 78,
   "metadata": {},
   "outputs": [
    {
     "name": "stdout",
     "output_type": "stream",
     "text": [
      "There are approximately 339, i.e. 3.39%, records for machine failure in the data: \n"
     ]
    }
   ],
   "source": [
    "# Some sanity-check of the data to avoid single-class training-/test-sets:\n",
    "#=========================================================================\n",
    "mf_y = np.asarray(y['Machine failure']==1).sum()\n",
    "\n",
    "# check if there are some records for machine-failure in the data:\n",
    "print(f\"There are approximately {mf_y}, i.e. {100 *mf_y / len(y)}%, records for machine failure in the data: \")"
   ]
  },
  {
   "cell_type": "code",
   "execution_count": 79,
   "metadata": {},
   "outputs": [
    {
     "name": "stdout",
     "output_type": "stream",
     "text": [
      "X.shape: (10000, 8)\n",
      "y.shape: (10000, 6)\n",
      "X_train.shape: (8000, 8)\n",
      "y_train.shape: (8000, 6)\n",
      "X_test.shape: (2000, 8)\n",
      "y_test.shape: (2000, 6)\n",
      "predictive_columns: ['L', 'M', 'H', 'Air temperature [K]', 'Process temperature [K]', 'Rotational speed [rpm]', 'Torque [Nm]', 'Tool wear [min]']\n",
      "target_columns: ['Machine failure', 'TWF', 'HDF', 'PWF', 'OSF', 'RNF']\n"
     ]
    }
   ],
   "source": [
    "# Train-test split of the data:\n",
    "\n",
    "test_size=0.2\n",
    "REPORT[\"test_size\"] = test_size\n",
    "\n",
    "X_train, X_test, y_train, y_test = train_test_split(X,y,random_state=0, test_size=test_size)\n",
    "print(f\"X.shape: {X.shape}\")\n",
    "REPORT[\"X.shape\"]= X.shape\n",
    "print(f\"y.shape: {y.shape}\")\n",
    "REPORT[\"y.shape\"]=y.shape\n",
    "print(f\"X_train.shape: {X_train.shape}\")\n",
    "print(f\"y_train.shape: {y_train.shape}\")\n",
    "print(f\"X_test.shape: {X_test.shape}\")\n",
    "print(f\"y_test.shape: {y_test.shape}\")\n",
    "print(f\"predictive_columns: {predictive_columns}\")\n",
    "print(f\"target_columns: {target_columns}\")\n"
   ]
  },
  {
   "cell_type": "code",
   "execution_count": 80,
   "metadata": {},
   "outputs": [
    {
     "name": "stdout",
     "output_type": "stream",
     "text": [
      "There are approximately 264, i.e. 3.3 %, machine-failure records in the train set\n",
      "There are approximately 75, i.e. 3.75%, machine-failure records in the test set\n"
     ]
    }
   ],
   "source": [
    "# Some sanity-check of the data to avoid single-class training-/test-sets:\n",
    "#=========================================================================\n",
    "mf_train = np.asarray(y_train['Machine failure'] == 1).sum()\n",
    "mf_test = np.asarray(y_test['Machine failure'] == 1).sum()\n",
    "\n",
    "# check if there are some records for machine-failure in the data:\n",
    "print(f\"There are approximately {mf_train}, i.e. { 100 * mf_train / len(y_train)} %, machine-failure records in the train set\")\n",
    "print(f\"There are approximately {mf_test}, i.e. {100 * mf_test / len(y_test)}%, machine-failure records in the test set\")"
   ]
  },
  {
   "cell_type": "markdown",
   "metadata": {},
   "source": [
    "# Support Vector Machine: #"
   ]
  },
  {
   "cell_type": "code",
   "execution_count": 81,
   "metadata": {},
   "outputs": [],
   "source": [
    "# helper function an maps to convert back and forth between :\n",
    "# OHE encoding, \n",
    "# numeric categorial encoding, \n",
    "# string categorial encoding:\n",
    "#=====================================================================================================================\n",
    "\n",
    "def OheToSingleCodedModes(ohe_labels, code=\"named\"):\n",
    "    \"\"\"\n",
    "        The failure-modes are OHE or rather (More-than-one-hot-) encoded.\n",
    "        This function encodes them as integers (code=\"numeric\") or like the column names (code=\"named\"), \n",
    "        but takes only single-mode machine-failures correctly into account.\n",
    "        Multi-mode machine-failures are jointly encoded as \"Multimode\".\n",
    "        \n",
    "        Input:\n",
    "            ohe_labels: an array of arrays of zero and ones ex.: [[1,1,0,0,0,0],[1,0,0,0,1,0]]\n",
    "            code: target encoding - default = \"named\"=column names of the original dataframe, \n",
    "                                    \"numeric\" = integers\n",
    "        Output:\n",
    "            an array of integers.\n",
    "    \"\"\"\n",
    "    coded_modes = []\n",
    "    if(code == \"numeric\"):\n",
    "        # build a mode dictionary for the standard failure modes (given in the explantion above). \n",
    "        # No multi-mode failures are accounted for:\n",
    "        modes = {\"\".join(map(str,[0,0,0,0,0,0])): 0, #'No Machine failure',\n",
    "            \"\".join(map(str,[1,1,0,0,0,0])): 1, #'TWF',\n",
    "            \"\".join(map(str,[1,0,1,0,0,0])): 2, #'HDF', \n",
    "            \"\".join(map(str,[1,0,0,1,0,0])): 3, #'PWF', \n",
    "            \"\".join(map(str,[1,0,0,0,1,0])): 4, #'OSF',\n",
    "            \"\".join(map(str,[0,0,0,0,0,1])): 5,#'RNF',\n",
    "        }\n",
    "        # machine failures consisting of multiple modes are designated as \"Multimode\":\n",
    "        for v in ohe_labels:\n",
    "            coded_modes.append(modes.get(\"\".join(map(str,v)), 6)) # 6  ==\"Multimode\"\n",
    "    else:\n",
    "        modes = {\"\".join(map(str,[0,0,0,0,0,0])): 'No Machine failure',\n",
    "            \"\".join(map(str,[1,1,0,0,0,0])): 'TWF',\n",
    "            \"\".join(map(str,[1,0,1,0,0,0])): 'HDF', \n",
    "            \"\".join(map(str,[1,0,0,1,0,0])): 'PWF', \n",
    "            \"\".join(map(str,[1,0,0,0,1,0])): 'OSF',\n",
    "            \"\".join(map(str,[0,0,0,0,0,1])): 'RNF',\n",
    "        }\n",
    "        # machine failures consisting of multiple modes are designated as \"Multimode\":\n",
    "        for v in ohe_labels:\n",
    "            coded_modes.append(modes.get(\"\".join(map(str,v)),\"Multimode\")) \n",
    "\n",
    "    return np.array(coded_modes)\n",
    "\n",
    "# clear mode dictionary:\n",
    "clear_modes =  {\n",
    "    0 : 'No Machine failure',\n",
    "    1 : 'TWF',\n",
    "    2 : 'HDF', \n",
    "    3 : 'PWF', \n",
    "    4 : 'OSF',\n",
    "    5 : 'RNF',\n",
    "    6 : \"Multimode\",\n",
    "}\n",
    "\n",
    "modes_OHE = {\n",
    "    0 : [0,0,0,0,0,0], # 'No Machine failure\n",
    "    1 : [1,1,0,0,0,0], # 'TWF'\n",
    "    2 : [1,0,1,0,0,0], # 'HDF' \n",
    "    3 : [1,0,0,1,0,0], # 'PWF' \n",
    "    4 : [1,0,0,0,1,0], # 'OSF'\n",
    "    5 : [0,0,0,0,0,1], # 'RNF'\n",
    "    6 : [1,1,1,0,0,0], # 'Multimode'\n",
    "}"
   ]
  },
  {
   "cell_type": "markdown",
   "metadata": {},
   "source": [
    "## Try a linear Support Vector Classifier first ##"
   ]
  },
  {
   "cell_type": "code",
   "execution_count": 82,
   "metadata": {},
   "outputs": [],
   "source": [
    "# encode the targets:\n",
    "#--------------------\n",
    "\n",
    "y_train_num = OheToSingleCodedModes(y_train.values, code=\"numeric\")\n",
    "y_test_num = OheToSingleCodedModes(y_test.values, code=\"numeric\")\n"
   ]
  },
  {
   "cell_type": "code",
   "execution_count": 83,
   "metadata": {},
   "outputs": [
    {
     "name": "stderr",
     "output_type": "stream",
     "text": [
      "C:\\Users\\BoSc\\anaconda3\\envs\\decTrees\\lib\\site-packages\\sklearn\\svm\\_base.py:1199: ConvergenceWarning: Liblinear failed to converge, increase the number of iterations.\n",
      "  warnings.warn(\n"
     ]
    },
    {
     "data": {
      "text/plain": [
       "Pipeline(steps=[('poly_features', PolynomialFeatures(degree=3)),\n",
       "                ('scaler', StandardScaler()),\n",
       "                ('svm_clf', LinearSVC(C=1, loss='hinge'))])"
      ]
     },
     "execution_count": 83,
     "metadata": {},
     "output_type": "execute_result"
    }
   ],
   "source": [
    "# DEFINE AND FIT a Polynomial Support Vector Machine:\n",
    "# ===================================================\n",
    "\n",
    "from sklearn.pipeline import Pipeline\n",
    "from sklearn.preprocessing import StandardScaler, PolynomialFeatures\n",
    "from sklearn.svm import LinearSVC\n",
    "\n",
    "poly_svm_clf = Pipeline([\n",
    "    ('poly_features', PolynomialFeatures(degree=3)),\n",
    "    ('scaler', StandardScaler()),\n",
    "    ('svm_clf', LinearSVC(C=1, loss='hinge'))\n",
    "    ])\n",
    "\n",
    "poly_svm_clf.fit(X_train,y_train_num)\n"
   ]
  },
  {
   "cell_type": "markdown",
   "metadata": {},
   "source": [
    "## Conclusion: ##\n",
    "The LinearSVC does not converge onto a solution. Even a polynomial feature transformation does not help. <br>\n",
    "Options: <br>\n",
    "1. increase number of iterations\n",
    "2. smaller C parameter, to allow more margin violations\n",
    "3. higher order polynomials"
   ]
  },
  {
   "cell_type": "markdown",
   "metadata": {},
   "source": [
    "## Try a SVC with a radial basis function (rbf) ##"
   ]
  },
  {
   "cell_type": "code",
   "execution_count": 84,
   "metadata": {},
   "outputs": [
    {
     "data": {
      "text/plain": [
       "Pipeline(steps=[('scaler', StandardScaler()),\n",
       "                ('rbf_clf', SVC(probability=True, random_state=11))])"
      ]
     },
     "execution_count": 84,
     "metadata": {},
     "output_type": "execute_result"
    }
   ],
   "source": [
    "from sklearn.svm import SVC\n",
    "\n",
    "rbf_svm_clf = Pipeline([\n",
    "    ('scaler', StandardScaler()), \n",
    "    ('rbf_clf', SVC(kernel=\"rbf\", probability=True, class_weight=None, random_state=11))\n",
    "    ])\n",
    "\n",
    "rbf_svm_clf.fit(X_train, y_train_num)"
   ]
  },
  {
   "cell_type": "code",
   "execution_count": 85,
   "metadata": {},
   "outputs": [
    {
     "name": "stdout",
     "output_type": "stream",
     "text": [
      "\n",
      " Mean accuracy: 0.9655\n"
     ]
    }
   ],
   "source": [
    "# MEAN ACCURACY OF THE TEST DATA:\n",
    "# ===============================\n",
    "\n",
    "# this does not say much, since we have mainly \"0\" as labels:\n",
    "mean_acc = rbf_svm_clf.score(X_test, y_test_num)\n",
    "REPORT[\"mean acc single tree\"]=mean_acc\n",
    "print(f\"\\n Mean accuracy: {mean_acc}\")\n"
   ]
  },
  {
   "cell_type": "markdown",
   "metadata": {},
   "source": [
    "As we expected from the strong imbalance of the data-set, the accuracy is quite high. <br>\n",
    "It is better to measure the predictive powers of the machine with ROC-AUC instead:"
   ]
  },
  {
   "cell_type": "code",
   "execution_count": 86,
   "metadata": {},
   "outputs": [
    {
     "name": "stdout",
     "output_type": "stream",
     "text": [
      "\n",
      " Area Under the Curve (auc): 0.7624841720902334\n"
     ]
    }
   ],
   "source": [
    "# ROC-AUC METRIC FOR DATASET WITH CLASS IMBALANCE:\n",
    "#=================================================\n",
    "# see e.g.:Data School vid on roc auc: https://youtu.be/OAl6eAyP-yo\n",
    "\n",
    "from sklearn.metrics import roc_auc_score\n",
    "\n",
    "y_preds_proba = rbf_svm_clf.predict_proba(X_test)\n",
    "auc=roc_auc_score(y_test_num, y_preds_proba, multi_class='ovo')\n",
    "REPORT[\"auc single rbf estimator\"]=auc\n",
    "\n",
    "print(f\"\\n Area Under the Curve (auc): {auc}\")"
   ]
  },
  {
   "cell_type": "code",
   "execution_count": 112,
   "metadata": {},
   "outputs": [
    {
     "name": "stdout",
     "output_type": "stream",
     "text": [
      "weighted f1-score: 0.9522433598051319\n",
      "macro-averaged f1-score: 0.2614535019520171\n",
      "samples-averaged f1-score: 0.9655\n"
     ]
    }
   ],
   "source": [
    "# consider f1_score as metric:\n",
    "#=============================\n",
    "\n",
    "from sklearn.metrics import f1_score\n",
    "\n",
    "y_preds_num = rbf_svm_clf.predict(X_test)\n",
    "\n",
    "f1 = f1_score(y_test_num, y_preds_num, average='weighted')\n",
    "print(f'weighted f1-score: {f1}')\n",
    "REPORT['weighted f1-score single rbf'] = f1\n",
    "f1 = f1_score(y_test_num, y_preds_num, average='macro')\n",
    "print(f'macro-averaged f1-score: {f1}')\n",
    "REPORT['macro-averaged f1_score single rbf'] = f1\n",
    "\n",
    "y_test_OHE = [modes_OHE[y] for y in y_test_num]\n",
    "y_preds_OHE = [modes_OHE[y] for y in y_preds_num]\n",
    "f1 = f1_score(y_test_OHE, y_preds_OHE, average='samples', zero_division=1)\n",
    "print(f'samples-averaged f1-score: {f1}')\n",
    "REPORT['samples-averaged f1_score single rbf'] = f1"
   ]
  },
  {
   "cell_type": "code",
   "execution_count": 117,
   "metadata": {},
   "outputs": [
    {
     "ename": "KeyboardInterrupt",
     "evalue": "",
     "output_type": "error",
     "traceback": [
      "\u001b[1;31m---------------------------------------------------------------------------\u001b[0m",
      "\u001b[1;31mKeyboardInterrupt\u001b[0m                         Traceback (most recent call last)",
      "\u001b[1;32m~\\AppData\\Local\\Temp/ipykernel_14892/1531581714.py\u001b[0m in \u001b[0;36m<module>\u001b[1;34m\u001b[0m\n\u001b[0;32m     10\u001b[0m         )\n\u001b[0;32m     11\u001b[0m \u001b[1;33m\u001b[0m\u001b[0m\n\u001b[1;32m---> 12\u001b[1;33m \u001b[0mclf\u001b[0m\u001b[1;33m.\u001b[0m\u001b[0mfit\u001b[0m\u001b[1;33m(\u001b[0m\u001b[0mX_train\u001b[0m\u001b[1;33m,\u001b[0m \u001b[0my_train_num\u001b[0m\u001b[1;33m)\u001b[0m\u001b[1;33m\u001b[0m\u001b[1;33m\u001b[0m\u001b[0m\n\u001b[0m\u001b[0;32m     13\u001b[0m \u001b[1;33m\u001b[0m\u001b[0m\n\u001b[0;32m     14\u001b[0m \u001b[0mbest_clf\u001b[0m \u001b[1;33m=\u001b[0m \u001b[0mclf\u001b[0m\u001b[1;33m.\u001b[0m\u001b[0mbest_estimator_\u001b[0m\u001b[1;33m\u001b[0m\u001b[1;33m\u001b[0m\u001b[0m\n",
      "\u001b[1;32m~\\anaconda3\\envs\\decTrees\\lib\\site-packages\\sklearn\\model_selection\\_search.py\u001b[0m in \u001b[0;36mfit\u001b[1;34m(self, X, y, groups, **fit_params)\u001b[0m\n\u001b[0;32m    889\u001b[0m                 \u001b[1;32mreturn\u001b[0m \u001b[0mresults\u001b[0m\u001b[1;33m\u001b[0m\u001b[1;33m\u001b[0m\u001b[0m\n\u001b[0;32m    890\u001b[0m \u001b[1;33m\u001b[0m\u001b[0m\n\u001b[1;32m--> 891\u001b[1;33m             \u001b[0mself\u001b[0m\u001b[1;33m.\u001b[0m\u001b[0m_run_search\u001b[0m\u001b[1;33m(\u001b[0m\u001b[0mevaluate_candidates\u001b[0m\u001b[1;33m)\u001b[0m\u001b[1;33m\u001b[0m\u001b[1;33m\u001b[0m\u001b[0m\n\u001b[0m\u001b[0;32m    892\u001b[0m \u001b[1;33m\u001b[0m\u001b[0m\n\u001b[0;32m    893\u001b[0m             \u001b[1;31m# multimetric is determined here because in the case of a callable\u001b[0m\u001b[1;33m\u001b[0m\u001b[1;33m\u001b[0m\u001b[0m\n",
      "\u001b[1;32m~\\anaconda3\\envs\\decTrees\\lib\\site-packages\\sklearn\\model_selection\\_search.py\u001b[0m in \u001b[0;36m_run_search\u001b[1;34m(self, evaluate_candidates)\u001b[0m\n\u001b[0;32m   1390\u001b[0m     \u001b[1;32mdef\u001b[0m \u001b[0m_run_search\u001b[0m\u001b[1;33m(\u001b[0m\u001b[0mself\u001b[0m\u001b[1;33m,\u001b[0m \u001b[0mevaluate_candidates\u001b[0m\u001b[1;33m)\u001b[0m\u001b[1;33m:\u001b[0m\u001b[1;33m\u001b[0m\u001b[1;33m\u001b[0m\u001b[0m\n\u001b[0;32m   1391\u001b[0m         \u001b[1;34m\"\"\"Search all candidates in param_grid\"\"\"\u001b[0m\u001b[1;33m\u001b[0m\u001b[1;33m\u001b[0m\u001b[0m\n\u001b[1;32m-> 1392\u001b[1;33m         \u001b[0mevaluate_candidates\u001b[0m\u001b[1;33m(\u001b[0m\u001b[0mParameterGrid\u001b[0m\u001b[1;33m(\u001b[0m\u001b[0mself\u001b[0m\u001b[1;33m.\u001b[0m\u001b[0mparam_grid\u001b[0m\u001b[1;33m)\u001b[0m\u001b[1;33m)\u001b[0m\u001b[1;33m\u001b[0m\u001b[1;33m\u001b[0m\u001b[0m\n\u001b[0m\u001b[0;32m   1393\u001b[0m \u001b[1;33m\u001b[0m\u001b[0m\n\u001b[0;32m   1394\u001b[0m \u001b[1;33m\u001b[0m\u001b[0m\n",
      "\u001b[1;32m~\\anaconda3\\envs\\decTrees\\lib\\site-packages\\sklearn\\model_selection\\_search.py\u001b[0m in \u001b[0;36mevaluate_candidates\u001b[1;34m(candidate_params, cv, more_results)\u001b[0m\n\u001b[0;32m    836\u001b[0m                     )\n\u001b[0;32m    837\u001b[0m \u001b[1;33m\u001b[0m\u001b[0m\n\u001b[1;32m--> 838\u001b[1;33m                 out = parallel(\n\u001b[0m\u001b[0;32m    839\u001b[0m                     delayed(_fit_and_score)(\n\u001b[0;32m    840\u001b[0m                         \u001b[0mclone\u001b[0m\u001b[1;33m(\u001b[0m\u001b[0mbase_estimator\u001b[0m\u001b[1;33m)\u001b[0m\u001b[1;33m,\u001b[0m\u001b[1;33m\u001b[0m\u001b[1;33m\u001b[0m\u001b[0m\n",
      "\u001b[1;32m~\\anaconda3\\envs\\decTrees\\lib\\site-packages\\joblib\\parallel.py\u001b[0m in \u001b[0;36m__call__\u001b[1;34m(self, iterable)\u001b[0m\n\u001b[0;32m   1054\u001b[0m \u001b[1;33m\u001b[0m\u001b[0m\n\u001b[0;32m   1055\u001b[0m             \u001b[1;32mwith\u001b[0m \u001b[0mself\u001b[0m\u001b[1;33m.\u001b[0m\u001b[0m_backend\u001b[0m\u001b[1;33m.\u001b[0m\u001b[0mretrieval_context\u001b[0m\u001b[1;33m(\u001b[0m\u001b[1;33m)\u001b[0m\u001b[1;33m:\u001b[0m\u001b[1;33m\u001b[0m\u001b[1;33m\u001b[0m\u001b[0m\n\u001b[1;32m-> 1056\u001b[1;33m                 \u001b[0mself\u001b[0m\u001b[1;33m.\u001b[0m\u001b[0mretrieve\u001b[0m\u001b[1;33m(\u001b[0m\u001b[1;33m)\u001b[0m\u001b[1;33m\u001b[0m\u001b[1;33m\u001b[0m\u001b[0m\n\u001b[0m\u001b[0;32m   1057\u001b[0m             \u001b[1;31m# Make sure that we get a last message telling us we are done\u001b[0m\u001b[1;33m\u001b[0m\u001b[1;33m\u001b[0m\u001b[0m\n\u001b[0;32m   1058\u001b[0m             \u001b[0melapsed_time\u001b[0m \u001b[1;33m=\u001b[0m \u001b[0mtime\u001b[0m\u001b[1;33m.\u001b[0m\u001b[0mtime\u001b[0m\u001b[1;33m(\u001b[0m\u001b[1;33m)\u001b[0m \u001b[1;33m-\u001b[0m \u001b[0mself\u001b[0m\u001b[1;33m.\u001b[0m\u001b[0m_start_time\u001b[0m\u001b[1;33m\u001b[0m\u001b[1;33m\u001b[0m\u001b[0m\n",
      "\u001b[1;32m~\\anaconda3\\envs\\decTrees\\lib\\site-packages\\joblib\\parallel.py\u001b[0m in \u001b[0;36mretrieve\u001b[1;34m(self)\u001b[0m\n\u001b[0;32m    933\u001b[0m             \u001b[1;32mtry\u001b[0m\u001b[1;33m:\u001b[0m\u001b[1;33m\u001b[0m\u001b[1;33m\u001b[0m\u001b[0m\n\u001b[0;32m    934\u001b[0m                 \u001b[1;32mif\u001b[0m \u001b[0mgetattr\u001b[0m\u001b[1;33m(\u001b[0m\u001b[0mself\u001b[0m\u001b[1;33m.\u001b[0m\u001b[0m_backend\u001b[0m\u001b[1;33m,\u001b[0m \u001b[1;34m'supports_timeout'\u001b[0m\u001b[1;33m,\u001b[0m \u001b[1;32mFalse\u001b[0m\u001b[1;33m)\u001b[0m\u001b[1;33m:\u001b[0m\u001b[1;33m\u001b[0m\u001b[1;33m\u001b[0m\u001b[0m\n\u001b[1;32m--> 935\u001b[1;33m                     \u001b[0mself\u001b[0m\u001b[1;33m.\u001b[0m\u001b[0m_output\u001b[0m\u001b[1;33m.\u001b[0m\u001b[0mextend\u001b[0m\u001b[1;33m(\u001b[0m\u001b[0mjob\u001b[0m\u001b[1;33m.\u001b[0m\u001b[0mget\u001b[0m\u001b[1;33m(\u001b[0m\u001b[0mtimeout\u001b[0m\u001b[1;33m=\u001b[0m\u001b[0mself\u001b[0m\u001b[1;33m.\u001b[0m\u001b[0mtimeout\u001b[0m\u001b[1;33m)\u001b[0m\u001b[1;33m)\u001b[0m\u001b[1;33m\u001b[0m\u001b[1;33m\u001b[0m\u001b[0m\n\u001b[0m\u001b[0;32m    936\u001b[0m                 \u001b[1;32melse\u001b[0m\u001b[1;33m:\u001b[0m\u001b[1;33m\u001b[0m\u001b[1;33m\u001b[0m\u001b[0m\n\u001b[0;32m    937\u001b[0m                     \u001b[0mself\u001b[0m\u001b[1;33m.\u001b[0m\u001b[0m_output\u001b[0m\u001b[1;33m.\u001b[0m\u001b[0mextend\u001b[0m\u001b[1;33m(\u001b[0m\u001b[0mjob\u001b[0m\u001b[1;33m.\u001b[0m\u001b[0mget\u001b[0m\u001b[1;33m(\u001b[0m\u001b[1;33m)\u001b[0m\u001b[1;33m)\u001b[0m\u001b[1;33m\u001b[0m\u001b[1;33m\u001b[0m\u001b[0m\n",
      "\u001b[1;32m~\\anaconda3\\envs\\decTrees\\lib\\site-packages\\joblib\\_parallel_backends.py\u001b[0m in \u001b[0;36mwrap_future_result\u001b[1;34m(future, timeout)\u001b[0m\n\u001b[0;32m    540\u001b[0m         AsyncResults.get from multiprocessing.\"\"\"\n\u001b[0;32m    541\u001b[0m         \u001b[1;32mtry\u001b[0m\u001b[1;33m:\u001b[0m\u001b[1;33m\u001b[0m\u001b[1;33m\u001b[0m\u001b[0m\n\u001b[1;32m--> 542\u001b[1;33m             \u001b[1;32mreturn\u001b[0m \u001b[0mfuture\u001b[0m\u001b[1;33m.\u001b[0m\u001b[0mresult\u001b[0m\u001b[1;33m(\u001b[0m\u001b[0mtimeout\u001b[0m\u001b[1;33m=\u001b[0m\u001b[0mtimeout\u001b[0m\u001b[1;33m)\u001b[0m\u001b[1;33m\u001b[0m\u001b[1;33m\u001b[0m\u001b[0m\n\u001b[0m\u001b[0;32m    543\u001b[0m         \u001b[1;32mexcept\u001b[0m \u001b[0mCfTimeoutError\u001b[0m \u001b[1;32mas\u001b[0m \u001b[0me\u001b[0m\u001b[1;33m:\u001b[0m\u001b[1;33m\u001b[0m\u001b[1;33m\u001b[0m\u001b[0m\n\u001b[0;32m    544\u001b[0m             \u001b[1;32mraise\u001b[0m \u001b[0mTimeoutError\u001b[0m \u001b[1;32mfrom\u001b[0m \u001b[0me\u001b[0m\u001b[1;33m\u001b[0m\u001b[1;33m\u001b[0m\u001b[0m\n",
      "\u001b[1;32m~\\anaconda3\\envs\\decTrees\\lib\\concurrent\\futures\\_base.py\u001b[0m in \u001b[0;36mresult\u001b[1;34m(self, timeout)\u001b[0m\n\u001b[0;32m    438\u001b[0m                     \u001b[1;32mreturn\u001b[0m \u001b[0mself\u001b[0m\u001b[1;33m.\u001b[0m\u001b[0m__get_result\u001b[0m\u001b[1;33m(\u001b[0m\u001b[1;33m)\u001b[0m\u001b[1;33m\u001b[0m\u001b[1;33m\u001b[0m\u001b[0m\n\u001b[0;32m    439\u001b[0m \u001b[1;33m\u001b[0m\u001b[0m\n\u001b[1;32m--> 440\u001b[1;33m                 \u001b[0mself\u001b[0m\u001b[1;33m.\u001b[0m\u001b[0m_condition\u001b[0m\u001b[1;33m.\u001b[0m\u001b[0mwait\u001b[0m\u001b[1;33m(\u001b[0m\u001b[0mtimeout\u001b[0m\u001b[1;33m)\u001b[0m\u001b[1;33m\u001b[0m\u001b[1;33m\u001b[0m\u001b[0m\n\u001b[0m\u001b[0;32m    441\u001b[0m \u001b[1;33m\u001b[0m\u001b[0m\n\u001b[0;32m    442\u001b[0m                 \u001b[1;32mif\u001b[0m \u001b[0mself\u001b[0m\u001b[1;33m.\u001b[0m\u001b[0m_state\u001b[0m \u001b[1;32min\u001b[0m \u001b[1;33m[\u001b[0m\u001b[0mCANCELLED\u001b[0m\u001b[1;33m,\u001b[0m \u001b[0mCANCELLED_AND_NOTIFIED\u001b[0m\u001b[1;33m]\u001b[0m\u001b[1;33m:\u001b[0m\u001b[1;33m\u001b[0m\u001b[1;33m\u001b[0m\u001b[0m\n",
      "\u001b[1;32m~\\anaconda3\\envs\\decTrees\\lib\\threading.py\u001b[0m in \u001b[0;36mwait\u001b[1;34m(self, timeout)\u001b[0m\n\u001b[0;32m    310\u001b[0m         \u001b[1;32mtry\u001b[0m\u001b[1;33m:\u001b[0m    \u001b[1;31m# restore state no matter what (e.g., KeyboardInterrupt)\u001b[0m\u001b[1;33m\u001b[0m\u001b[1;33m\u001b[0m\u001b[0m\n\u001b[0;32m    311\u001b[0m             \u001b[1;32mif\u001b[0m \u001b[0mtimeout\u001b[0m \u001b[1;32mis\u001b[0m \u001b[1;32mNone\u001b[0m\u001b[1;33m:\u001b[0m\u001b[1;33m\u001b[0m\u001b[1;33m\u001b[0m\u001b[0m\n\u001b[1;32m--> 312\u001b[1;33m                 \u001b[0mwaiter\u001b[0m\u001b[1;33m.\u001b[0m\u001b[0macquire\u001b[0m\u001b[1;33m(\u001b[0m\u001b[1;33m)\u001b[0m\u001b[1;33m\u001b[0m\u001b[1;33m\u001b[0m\u001b[0m\n\u001b[0m\u001b[0;32m    313\u001b[0m                 \u001b[0mgotit\u001b[0m \u001b[1;33m=\u001b[0m \u001b[1;32mTrue\u001b[0m\u001b[1;33m\u001b[0m\u001b[1;33m\u001b[0m\u001b[0m\n\u001b[0;32m    314\u001b[0m             \u001b[1;32melse\u001b[0m\u001b[1;33m:\u001b[0m\u001b[1;33m\u001b[0m\u001b[1;33m\u001b[0m\u001b[0m\n",
      "\u001b[1;31mKeyboardInterrupt\u001b[0m: "
     ]
    }
   ],
   "source": [
    "# grid search for the most convenient parameters:\n",
    "#================================================\n",
    "# parameters are: C and gamma\n",
    "\n",
    "from sklearn.model_selection import GridSearchCV\n",
    "\n",
    "clf = GridSearchCV(estimator=SVC(kernel=\"rbf\", probability=True, class_weight=None, random_state=11), \n",
    "        param_grid={'C':[0.01, 1, 10], 'gamma' : [0.01, 1, 10]},\n",
    "        n_jobs=-1,\n",
    "        )\n",
    "\n",
    "clf.fit(X_train, y_train_num)\n",
    "\n",
    "best_clf = clf.best_estimator_\n",
    "\n",
    "y_preds_prob = best_clf.predict_proba(X_test)\n",
    "auc = roc_auc_score(y_test_num, y_preds_prob, multi_class='ovo')\n",
    "REPORT[\"auc best estimator\"]=auc\n",
    "\n",
    "print(f\"\\n Area Under the Curve (auc): {auc}\")\n"
   ]
  },
  {
   "cell_type": "code",
   "execution_count": 115,
   "metadata": {},
   "outputs": [
    {
     "name": "stdout",
     "output_type": "stream",
     "text": [
      "weighted f1-score: 0.9469108635666839\n",
      "macro-averaged f1-score: 0.20872764435360244\n",
      "samples-averaged f1-score: 0.963\n"
     ]
    }
   ],
   "source": [
    "# consider f1_score as metric:\n",
    "#=============================\n",
    "\n",
    "from sklearn.metrics import f1_score\n",
    "\n",
    "y_preds_num_best = best_clf.predict(X_test)\n",
    "\n",
    "f1 = f1_score(y_test_num, y_preds_num_best, average='weighted')\n",
    "print(f'weighted f1-score: {f1}')\n",
    "REPORT['weighted f1-score best rbf'] = f1\n",
    "f1 = f1_score(y_test_num, y_preds_num_best, average='macro')\n",
    "print(f'macro-averaged f1-score: {f1}')\n",
    "REPORT['macro-averaged f1_score best rbf']=f1\n",
    "\n",
    "y_test_OHE = [modes_OHE[y] for y in y_test_num]\n",
    "y_preds_OHE = [modes_OHE[y] for y in y_preds_num_best]\n",
    "f1 = f1_score(y_test_OHE, y_preds_OHE, average='samples', zero_division=1)\n",
    "print(f'samples-averaged f1-score: {f1}')\n",
    "REPORT['samples-averaged f1_score best rbf'] = f1\n"
   ]
  },
  {
   "cell_type": "code",
   "execution_count": 99,
   "metadata": {},
   "outputs": [
    {
     "name": "stdout",
     "output_type": "stream",
     "text": [
      "{'csv_data_file_path': './dataset/ai4i2020.csv', 'equipment_type': 'all', 'data_columns': ['L', 'M', 'H', 'Air temperature [K]', 'Process temperature [K]', 'Rotational speed [rpm]', 'Torque [Nm]', 'Tool wear [min]', 'Machine failure', 'TWF', 'HDF', 'PWF', 'OSF', 'RNF'], 'test_size': 0.2, 'X.shape': (10000, 8), 'y.shape': (10000, 6), 'mean acc single tree': 0.9655, 'auc single rbf estimator': 0.7624841720902334, 'auc best estimator': 0.7390324706693099, 'weighted f1-score best rbf': 0.9469108635666839, 'macro-averaged f1_score best rbf': 0.20872764435360244}\n"
     ]
    }
   ],
   "source": [
    "print(REPORT)"
   ]
  },
  {
   "cell_type": "code",
   "execution_count": 116,
   "metadata": {},
   "outputs": [
    {
     "data": {
      "text/plain": [
       "<sklearn.metrics._plot.confusion_matrix.ConfusionMatrixDisplay at 0x2437e44dfa0>"
      ]
     },
     "execution_count": 116,
     "metadata": {},
     "output_type": "execute_result"
    },
    {
     "data": {
      "image/png": "[encoded data removed]",
      "text/plain": [
       "<Figure size 432x288 with 2 Axes>"
      ]
     },
     "metadata": {
      "needs_background": "light"
     },
     "output_type": "display_data"
    }
   ],
   "source": [
    "# plot a confusion matrix:\n",
    "#==========================\n",
    "from sklearn.metrics import confusion_matrix, ConfusionMatrixDisplay\n",
    "\n",
    "#best_preds = [modes_OHE[y] for y in y_preds_num]\n",
    "best_preds = [modes_OHE[y] for y in y_preds_num_best]\n",
    "\n",
    "true_modes = OheToSingleCodedModes(y_test.values, code=\"named\")\n",
    "pred_modes = OheToSingleCodedModes(best_preds, code=\"named\")\n",
    "\n",
    "labels = ['No Machine failure','TWF','HDF','PWF','OSF','RNF',\"Multimode\"]\n",
    "#cm = confusion_matrix(true_modes, pred_modes, labels = labels, normalize=\"true\") # row - normalization\n",
    "#cm = confusion_matrix(true_modes, pred_modes, labels = labels, normalize=\"pred\") # column -normalization\n",
    "#cm = confusion_matrix(true_modes, pred_modes, labels = labels, normalize=\"all\") # over all entries - normalization\n",
    "cm = confusion_matrix(true_modes, pred_modes, labels = labels, normalize=None) # absolute numbers\n",
    "disp = ConfusionMatrixDisplay(cm, display_labels=labels)\n",
    "#disp.ax_.set_title(f\"Equipment type: {equipment_type}\") # seems to be possible in scikit v1.0\n",
    "disp.plot()\n"
   ]
  },
  {
   "cell_type": "markdown",
   "metadata": {},
   "source": [
    "# Conclusion: #\n",
    "The classifier has surprisingly bad performance despite a relatively high AUC score.<br>\n",
    "It works almost completely like a majority-voting classifier."
   ]
  }
 ],
 "metadata": {
  "interpreter": {
   "hash": "ca90302541b944c19890e5c29b941208da1ad9ca722fc0f4e3809bd9386c4ac4"
  },
  "kernelspec": {
   "display_name": "Python 3.9.7 64-bit ('decTrees': conda)",
   "name": "python3"
  },
  "language_info": {
   "codemirror_mode": {
    "name": "ipython",
    "version": 3
   },
   "file_extension": ".py",
   "mimetype": "text/x-python",
   "name": "python",
   "nbconvert_exporter": "python",
   "pygments_lexer": "ipython3",
   "version": "3.9.7"
  }
 },
 "nbformat": 4,
 "nbformat_minor": 5
}
